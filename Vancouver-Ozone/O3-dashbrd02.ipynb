{
 "cells": [
  {
   "cell_type": "markdown",
   "metadata": {},
   "source": [
    "## Ozone at YVR and Abbotsford\n",
    "\n",
    "**Objectives**: Plot two data sets with any combination of raw data, 7-day avg, or maximum daily 8-hr avg.  \n",
    "\n",
    "* Select timeseries to display using checkboxes. Dropdown sets trace type for Abb's data only (\"markers\" type plots slowly). \n",
    "* Zoom, pan, examine datapoint values, etc. using graph controls, upper right when your mouse is over the graph.\n",
    "* Zoom the time-window only using 'click-and-hold' then drag horizontally and release. \n",
    "* Move the graphed window by clicking the \"Pan\" button. Reset using the the little **\"home\"** icon.\n",
    "* YVR = Vancouver airport, Abb = Abbotsford and MDA8 = maximum daily 8 hour average."
   ]
  },
  {
   "cell_type": "code",
   "execution_count": 1,
   "metadata": {},
   "outputs": [],
   "source": [
    "# More detailed development comments are in the \"O3-dashbrd01\" version of this app. \n",
    "# intro to figurewidgets at https://plotly.com/python/figurewidget/"
   ]
  },
  {
   "cell_type": "code",
   "execution_count": 2,
   "metadata": {},
   "outputs": [
    {
     "data": {
      "text/html": [
       "        <script type=\"text/javascript\">\n",
       "        window.PlotlyConfig = {MathJaxConfig: 'local'};\n",
       "        if (window.MathJax) {MathJax.Hub.Config({SVG: {font: \"STIX-Web\"}});}\n",
       "        if (typeof require !== 'undefined') {\n",
       "        require.undef(\"plotly\");\n",
       "        requirejs.config({\n",
       "            paths: {\n",
       "                'plotly': ['https://cdn.plot.ly/plotly-latest.min']\n",
       "            }\n",
       "        });\n",
       "        require(['plotly'], function(Plotly) {\n",
       "            window._Plotly = Plotly;\n",
       "        });\n",
       "        }\n",
       "        </script>\n",
       "        "
      ]
     },
     "metadata": {},
     "output_type": "display_data"
    }
   ],
   "source": [
    "import pandas as pd\n",
    "\n",
    "import plotly\n",
    "import plotly.graph_objects as go\n",
    "from plotly.offline import iplot, init_notebook_mode\n",
    "init_notebook_mode(connected = True)\n",
    "\n",
    "import ipywidgets as widgets"
   ]
  },
  {
   "cell_type": "code",
   "execution_count": 3,
   "metadata": {},
   "outputs": [],
   "source": [
    "# read in the data from the prepared CSV file. \n",
    "# Data are assumed to be in the custom formatted CSV file `YVR and Abbotsford 2017.csv`, stored in the folder `data`. \n",
    "\n",
    "all_O3 = pd.read_csv(\"data/YVR and Abbotsford 2017.csv\",index_col=0, parse_dates=['date_pst'])"
   ]
  },
  {
   "cell_type": "code",
   "execution_count": 4,
   "metadata": {},
   "outputs": [],
   "source": [
    "# rolling n-point moving average (hence the .mean()); data points are 1hr apart, hence 24/day or 168/wk.\n",
    "days = 7\n",
    "hrs = 24*days\n",
    "YVR_smoothed = all_O3.YVR_ppb.rolling(hrs, center=True, min_periods=6).mean() \n",
    "Abb_smoothed = all_O3.Abbotsford_ppb.rolling(hrs, center=True, min_periods=6).mean() \n",
    "\n",
    "# add this as columns to the dataframe\n",
    "all_O3['YVR_smoothed']=YVR_smoothed\n",
    "all_O3['Abb_smoothed']=Abb_smoothed"
   ]
  },
  {
   "cell_type": "code",
   "execution_count": 5,
   "metadata": {},
   "outputs": [],
   "source": [
    "# rolling 8hr moving \"average\" (hence the .mean()); points are 1hr apart\n",
    "yvr_8hr_O3 = all_O3.YVR_ppb.rolling(8,min_periods=6).mean()\n",
    "abb_8hr_O3 = all_O3.Abbotsford_ppb.rolling(8,min_periods=6).mean()"
   ]
  },
  {
   "cell_type": "code",
   "execution_count": 6,
   "metadata": {},
   "outputs": [],
   "source": [
    "# resample result by \"day\" (the 'D'), choosing the max value. \n",
    "YVR_max8hrsavg=yvr_8hr_O3.resample('D').max()\n",
    "Abb_max8hrsavg=abb_8hr_O3.resample('D').max()\n",
    "\n",
    "# tried to add these as columns to the dataframe BUT ...\n",
    "# THAT ISN'T EASY BECAUSE THERE IS ONLY ONE POINT PER DAY, NOT 24.\n",
    "# But they still plot with other traces so long as the correct x-axis is used later in \"g.add_scatter\""
   ]
  },
  {
   "cell_type": "code",
   "execution_count": 7,
   "metadata": {},
   "outputs": [],
   "source": [
    "# Define the dashboard controls or \"widget objects\"\n",
    "# YVR = Vancouver airport\n",
    "# Abb = Abbotsford\n",
    "# MDA8 = maximum daily 8 hour average\n",
    "\n",
    "YVR_raw = widgets.Checkbox(\n",
    "    value=True,\n",
    "    description='YVR Raw',\n",
    "    disabled=False,\n",
    "    indent=False\n",
    ")\n",
    "Abb_raw = widgets.Checkbox(\n",
    "    value=False,\n",
    "    description='Abb Raw',\n",
    "    disabled=False,\n",
    "    indent=False\n",
    ")\n",
    "YVR_smooth = widgets.Checkbox(\n",
    "    value=False,\n",
    "    description='YVR smooth',\n",
    "    disabled=False,\n",
    "    indent=False\n",
    ")\n",
    "Abb_smooth = widgets.Checkbox(\n",
    "    value=False,\n",
    "    description='Abb smooth',\n",
    "    disabled=False,\n",
    "    indent=False\n",
    ")\n",
    "YVR_mda8 = widgets.Checkbox(\n",
    "    value=False,\n",
    "    description='YVR MDA8',\n",
    "    disabled=False,\n",
    "    indent=False\n",
    ")\n",
    "Abb_mda8 = widgets.Checkbox(\n",
    "    value=False,\n",
    "    description='Abb MDA8',\n",
    "    disabled=False,\n",
    "    indent=False\n",
    ")\n",
    "p_type = widgets.Dropdown(\n",
    "    options=['lines', 'markers', 'lines+markers'],\n",
    "    value='lines',\n",
    "    description='Abb\\'s trace',\n",
    "    disabled=False, \n",
    ")\n",
    "\n",
    "#containers for orgnaizing the dashboard \n",
    "container1 = widgets.VBox(children=[YVR_raw, YVR_smooth, YVR_mda8])\n",
    "container2 = widgets.VBox(children=[Abb_raw, Abb_smooth, Abb_mda8])\n",
    "container3 = widgets.HBox(children=[container1, container2, p_type])"
   ]
  },
  {
   "cell_type": "code",
   "execution_count": 8,
   "metadata": {},
   "outputs": [],
   "source": [
    "# Build the figure\n",
    "# first a blank figurewidget object, then specify fixed parameters. \n",
    "\n",
    "g = go.FigureWidget()\n",
    "\n",
    "g.layout.width = 900\n",
    "g.layout.height = 500\n",
    "g.layout.xaxis.title = 'Date'\n",
    "g.layout.yaxis.title = 'Amplitude'"
   ]
  },
  {
   "cell_type": "code",
   "execution_count": 9,
   "metadata": {},
   "outputs": [],
   "source": [
    "# plot one dataset when first run ...\n",
    "g.add_scatter(x=all_O3.index, y=all_O3.YVR_ppb, mode=\"lines\", \n",
    "                      line=dict(color='MediumTurquoise'), name=\"YVR raw\")\n",
    "\n",
    "# function to handle input from the widgets, and alter the state of the graph\n",
    "# find line parameters at https://plotly.com/python/line-charts/ \n",
    "# find color names at https://www.w3schools.com/colors/colors_names.asp\n",
    "\n",
    "def response(change):\n",
    "    g.data = []           # clear the graph\n",
    "    g.layout.title = \"\"   # clear the title\n",
    "    \n",
    "    if YVR_raw.value:\n",
    "        g.add_scatter(x=all_O3.index, y=all_O3.YVR_ppb, mode=\"lines\", \n",
    "                      line=dict(color='MediumTurquoise'), name=\"YVR raw\")\n",
    "        g.layout.title = \"Vancouver Airport\"\n",
    "    if Abb_raw.value:\n",
    "        g.add_scatter(x=all_O3.index, y=all_O3.Abbotsford_ppb, mode=p_type.value, \n",
    "                      line=dict(color='SandyBrown'), name=\"Abb raw\")\n",
    "        g.layout.title = \"Abbotsford\"\n",
    "    if YVR_smooth.value:\n",
    "        g.add_scatter(x=all_O3.index, y=all_O3.YVR_smoothed, mode=\"lines\", \n",
    "                      line=dict(color='green'), name=\"YVR 7-day average\")\n",
    "        g.layout.title = \"Vancouver Airport\"\n",
    "    if Abb_smooth.value:\n",
    "        g.add_scatter(x=all_O3.index, y=all_O3.Abb_smoothed, mode=p_type.value, \n",
    "                      line=dict(color='red'), name=\"Abb 7-day average\")\n",
    "        g.layout.title = \"Abbotsford\"\n",
    "# different \"x\" because mda8 has daily values, not hourly values. \n",
    "    if YVR_mda8.value:  \n",
    "        g.add_scatter(x=YVR_max8hrsavg.index, y=YVR_max8hrsavg, mode=\"lines\", \n",
    "                      line=dict(color='blue', width=2), name=\"YVR max daily 8hr avg\")\n",
    "        g.layout.title = \"Vancouver Airport\"\n",
    "    if Abb_mda8.value:\n",
    "        g.add_scatter(x=YVR_max8hrsavg.index, y=Abb_max8hrsavg, mode=p_type.value, \n",
    "                      line=dict(color='firebrick', width=2), name=\"Abb max daily 8hr avg\")\n",
    "        g.layout.title = \"Abbotsford\"\n",
    "\n",
    "    if (YVR_raw.value or YVR_smooth.value or YVR_mda8.value) and (Abb_raw.value or Abb_smooth.value or Abb_mda8.value):\n",
    "        g.layout.title = \"Vancouver Airport and Abbotsford\"\n",
    "\n",
    "# interacting with a widget causes the `observe` method to call back to the `response` function to update the plot\n",
    "# \"observe\" is explained https://ipywidgets.readthedocs.io/en/latest/examples/Using%20Interact.html#Arguments-that-are-dependent-on-each-other\n",
    "# it is probably not the most straight forward approach, although it seems to work. \n",
    "# Next steps (below) should be to clean this up. \n",
    "YVR_raw.observe(response, names=\"value\")\n",
    "Abb_raw.observe(response, names=\"value\")\n",
    "YVR_smooth.observe(response, names=\"value\")\n",
    "Abb_smooth.observe(response, names=\"value\")\n",
    "YVR_mda8.observe(response, names=\"value\")\n",
    "Abb_mda8.observe(response, names=\"value\")\n",
    "p_type.observe(response, names=\"value\")"
   ]
  },
  {
   "cell_type": "code",
   "execution_count": 10,
   "metadata": {},
   "outputs": [
    {
     "data": {
      "application/vnd.jupyter.widget-view+json": {
       "model_id": "bf4337b8d50c485ea3f32fdd4dbb16c7",
       "version_major": 2,
       "version_minor": 0
      },
      "text/plain": [
       "VBox(children=(HBox(children=(VBox(children=(Checkbox(value=True, description='YVR Raw', indent=False), Checkb…"
      ]
     },
     "metadata": {},
     "output_type": "display_data"
    }
   ],
   "source": [
    "# organize the dashboard widgets and plot\n",
    "\n",
    "widgets.VBox([container3, g])"
   ]
  },
  {
   "cell_type": "code",
   "execution_count": 11,
   "metadata": {},
   "outputs": [],
   "source": [
    "# NEXT: pursue more informed use of widgets using \"interact\" widget functionality more carefully. \n",
    "# See https://ipywidgets.readthedocs.io/en/latest/examples/Using%20Interact.html, including ...\n",
    "# use of \"observe\" to handle arguments that are dependent on each other.\n",
    "# There are also guidelines for using \"display\" and \"interactive_output\" to manage layout. "
   ]
  },
  {
   "cell_type": "markdown",
   "metadata": {},
   "source": [
    "## Usage for teaching and learning\n",
    "Here are just a few examples of questions that could be posed in class, on your own, or as an assignment. Choices will depend on whether this dashboard is being used to compare ozone levels at a coastal location to those further inland, or whether the purpose is to explore the challenges and potential for working with \"messy\" data sets. \n",
    "1. Plot just one raw data set. How much variation is there over the whole year? \n",
    "2. Use zoom and scrolling functionality to estimate daily variability of this parameter. \n",
    "3. What times during the year seem to have lowest ozone levels? Highest Ozone levels? How difficult is it to make these judgements \n",
    "4. Plot two raw data sets. Which site appears to experience higher ozone events? At what time of year? Why might that be? \n",
    "5. Are ozone variations easier to \"see\" by processing data with a 7-day average or by calcuating the maximum daily 8-hr average? \n",
    "6. Which of these two processing options makes it easier (or more effective) to compare these two stations stations? Why? \n",
    "7. Look closely at a day or two of smoothed and mda8 data. You should see they appear to be not quite \"lined up\". Why is this? _{{Because smoothed values are hourly wherease mda8 is a daily value assigned to the date at \"0\" hours. So the mda8 peak may not match up with a smoothed hourly peak. Most daily peaks are in the afternoon, especially in the summer.}}_\n",
    "8. many other ideas ...\n",
    "\n",
    "---"
   ]
  },
  {
   "cell_type": "markdown",
   "metadata": {},
   "source": [
    "## Attribution\n",
    "* Data used here are hourly ozone (parts per billion) for 2017 only, from 2 of many monitoring stations. Full datasets can be found at the BC Data Catalogue, [Air Quality Monitoring: Verified Hourly Data](https://catalogue.data.gov.bc.ca/dataset/77eeadf4-0c19-48bf-a47a-fa9eef01f409), licensed under the [Open Government Licence – British Columbia](https://www2.gov.bc.ca/gov/content/data/open-data/open-government-licence-bc). For more information about these data and their source, see the [Status of Ground-Level Ozone in B.C. (2015-2017)](http://www.env.gov.bc.ca/soe/indicators/air/ozone.html) web page.\n",
    "* The idea is derived from a discussion between Tara Ivanochko and Rivkah Gardner-Frolick <rivkahgf@gmail.com> who uses the complete dataset as part of a [Python tutorial](https://colab.research.google.com/drive/1DO0ICvInsr74vnl3AcPBoGtJyNrV-J8F?usp=sharing#scrollTo=a5l7UD_njHPv) on importing modules, importing data, plotting timeseries and scatter plots.\n",
    "* Code by [Francis Jones](https://www.eoas.ubc.ca/people/francisjones)."
   ]
  }
 ],
 "metadata": {
  "jupytext": {
   "cell_metadata_filter": "-all",
   "notebook_metadata_filter": "-all",
   "text_representation": {
    "extension": ".md",
    "format_name": "markdown"
   }
  },
  "kernelspec": {
   "display_name": "Python 3",
   "language": "python",
   "name": "python3"
  },
  "language_info": {
   "codemirror_mode": {
    "name": "ipython",
    "version": 3
   },
   "file_extension": ".py",
   "mimetype": "text/x-python",
   "name": "python",
   "nbconvert_exporter": "python",
   "pygments_lexer": "ipython3",
   "version": "3.7.8"
  }
 },
 "nbformat": 4,
 "nbformat_minor": 4
}
