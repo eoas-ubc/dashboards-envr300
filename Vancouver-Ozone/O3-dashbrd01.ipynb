{
 "cells": [
  {
   "cell_type": "markdown",
   "metadata": {},
   "source": [
    "## Ozone at YVR and Abbotsford\n",
    "\n",
    "**Objectives**: to plot 1) either raw dataset or both; 2) either 7-day avg, or both, 3) either maximum daily 8-hr avg, or both; 4) do this with dashboard and plotly.\n"
   ]
  },
  {
   "cell_type": "code",
   "execution_count": 1,
   "metadata": {},
   "outputs": [
    {
     "data": {
      "text/html": [
       "        <script type=\"text/javascript\">\n",
       "        window.PlotlyConfig = {MathJaxConfig: 'local'};\n",
       "        if (window.MathJax) {MathJax.Hub.Config({SVG: {font: \"STIX-Web\"}});}\n",
       "        if (typeof require !== 'undefined') {\n",
       "        require.undef(\"plotly\");\n",
       "        requirejs.config({\n",
       "            paths: {\n",
       "                'plotly': ['https://cdn.plot.ly/plotly-latest.min']\n",
       "            }\n",
       "        });\n",
       "        require(['plotly'], function(Plotly) {\n",
       "            window._Plotly = Plotly;\n",
       "        });\n",
       "        }\n",
       "        </script>\n",
       "        "
      ]
     },
     "metadata": {},
     "output_type": "display_data"
    }
   ],
   "source": [
    "# intro to figurewidgets at https://plotly.com/python/figurewidget/\n",
    "\n",
    "import pandas as pd\n",
    "# matplotlib needed only for checking data early during design\n",
    "from matplotlib import pyplot as plt\n",
    "\n",
    "import plotly\n",
    "import plotly.graph_objects as go\n",
    "from plotly.offline import iplot, init_notebook_mode\n",
    "init_notebook_mode(connected = True)\n",
    "\n",
    "import ipywidgets as widgets\n",
    "from ipywidgets import interact"
   ]
  },
  {
   "cell_type": "code",
   "execution_count": 2,
   "metadata": {},
   "outputs": [],
   "source": [
    "# read in the data from the prepared CSV file. \n",
    "all_O3 = pd.read_csv(\"data/YVR and Abbotsford 2017.csv\",index_col=0, parse_dates=['date_pst'])\n",
    "# all_O3.head()\n",
    "# all_O3.columns"
   ]
  },
  {
   "cell_type": "code",
   "execution_count": 3,
   "metadata": {},
   "outputs": [],
   "source": [
    "# rolling n-point moving average (hence the .mean()); data points are 1hr apart, hence 24/day or 168/wk.\n",
    "days = 7\n",
    "hrs = 24*days\n",
    "YVR_smoothed = all_O3.YVR_ppb.rolling(hrs, center=True, min_periods=6).mean() \n",
    "Abb_smoothed = all_O3.Abbotsford_ppb.rolling(hrs, center=True, min_periods=6).mean() \n",
    "\n",
    "# add this as columns to the dataframe\n",
    "all_O3['YVR_smoothed']=YVR_smoothed\n",
    "all_O3['Abb_smoothed']=Abb_smoothed\n",
    "\n",
    "# all_O3['Abb_smoothed']"
   ]
  },
  {
   "cell_type": "code",
   "execution_count": 4,
   "metadata": {},
   "outputs": [],
   "source": [
    "# rolling 8hr moving \"average\" (hence the .mean()); points are 1hr apart\n",
    "yvr_8hr_O3 = all_O3.YVR_ppb.rolling(8,min_periods=6).mean()\n",
    "abb_8hr_O3 = all_O3.Abbotsford_ppb.rolling(8,min_periods=6).mean()\n",
    "\n",
    "# abb_8hr_O3[:20]"
   ]
  },
  {
   "cell_type": "code",
   "execution_count": 5,
   "metadata": {},
   "outputs": [],
   "source": [
    "# resample result by \"day\" (the 'D'), choosing the max value. \n",
    "YVR_max8hrsavg=yvr_8hr_O3.resample('D').max()\n",
    "Abb_max8hrsavg=abb_8hr_O3.resample('D').max()\n",
    "\n",
    "# tried to add this as columns to the dataframe\n",
    "# BUT DOESN'T WORK BECAUSE THERE IS ONLY ONE POINT PER DAY, NOT 24.\n",
    "# Nevertheless, plotting this daily data over the hourly data seems to work just fine.\n",
    "# all_O3['YVR_max8hrsavg']=YVR_max8hrsavg\n",
    "# all_O3['Abb_max8hrsavg']=Abb_max8hrsavg\n",
    "\n",
    "# YVR_max8hrsavg"
   ]
  },
  {
   "cell_type": "code",
   "execution_count": 6,
   "metadata": {},
   "outputs": [],
   "source": [
    "# Test by plotting MDA8 using pandas plotting\n",
    "\n",
    "#ax = YVR_max8hrsavg.plot(figsize=(9, 4), color='g')\n",
    "#ax = Abb_max8hrsavg.plot(color='c')\n",
    "#ax = YVR_smoothed.plot(color='b')\n",
    "#ax = Abb_smoothed.plot(color='r')\n",
    "#ax.set_ylabel(\"MDA8 O$_3$ [ppb]\")\n",
    "#ax.set_xlabel('Date')\n",
    "#ax.set_title('MDA8 of YVR(Blue) and Abb (Red)')\n",
    "\n",
    "# plt.show()"
   ]
  },
  {
   "cell_type": "code",
   "execution_count": 7,
   "metadata": {},
   "outputs": [],
   "source": [
    "# first define the dashboard controls or \"widget objects\"\n",
    "# YVR = Vancouver airport\n",
    "# Abb = Abbotsford\n",
    "# MDA8 = maximum daily 8 hour average\n",
    "\n",
    "YVR_raw = widgets.Checkbox(\n",
    "    value=True,\n",
    "    description='YVR Raw',\n",
    "    disabled=False,\n",
    "    indent=False\n",
    ")\n",
    "Abb_raw = widgets.Checkbox(\n",
    "    value=False,\n",
    "    description='Abb Raw',\n",
    "    disabled=False,\n",
    "    indent=False\n",
    ")\n",
    "YVR_smooth = widgets.Checkbox(\n",
    "    value=False,\n",
    "    description='YVR smooth',\n",
    "    disabled=False,\n",
    "    indent=False\n",
    ")\n",
    "Abb_smooth = widgets.Checkbox(\n",
    "    value=False,\n",
    "    description='Abb smooth',\n",
    "    disabled=False,\n",
    "    indent=False\n",
    ")\n",
    "YVR_mda8 = widgets.Checkbox(\n",
    "    value=False,\n",
    "    description='YVR MDA8',\n",
    "    disabled=False,\n",
    "    indent=False\n",
    ")\n",
    "Abb_mda8 = widgets.Checkbox(\n",
    "    value=False,\n",
    "    description='Abb MDA8',\n",
    "    disabled=False,\n",
    "    indent=False\n",
    ")\n",
    "\n",
    "#containers not useful when using the \"decorator\" approach to interactive widgets. \n",
    "#container1 = widgets.VBox(children=[YVR_raw, Abb_raw])\n",
    "#container2 = widgets.VBox(children=[YVR_MDA8, Abb_MDA8])"
   ]
  },
  {
   "cell_type": "code",
   "execution_count": 8,
   "metadata": {},
   "outputs": [],
   "source": [
    "# Build the figure\n",
    "\n",
    "g = go.FigureWidget()\n",
    "\n",
    "g.layout.width = 900\n",
    "g.layout.height = 500\n",
    "g.layout.xaxis.title = 'Date'\n",
    "g.layout.yaxis.title = 'Amplitude'\n",
    "\n",
    "#g.add_scatter(x=all_O3.index, y=all_O3.YVR_smoothed, mode=\"lines\", line=dict(color='blue'), name=\"YVR smooth\")\n",
    "#g.add_scatter(x=all_O3.index, y=all_O3.YVR_max8hrsavg, mode=\"lines\", line=dict(color='green'), name=\"YVR mda8\")\n",
    "\n",
    "#g"
   ]
  },
  {
   "cell_type": "code",
   "execution_count": 9,
   "metadata": {},
   "outputs": [
    {
     "data": {
      "application/vnd.jupyter.widget-view+json": {
       "model_id": "53d91182d9ef41eb98086ebc2e215aea",
       "version_major": 2,
       "version_minor": 0
      },
      "text/plain": [
       "interactive(children=(Checkbox(value=True, description='YVR_raw'), Checkbox(value=True, description='Abb_raw')…"
      ]
     },
     "metadata": {},
     "output_type": "display_data"
    },
    {
     "data": {
      "application/vnd.jupyter.widget-view+json": {
       "model_id": "a4567662e0fa4a35aeeeef547c369993",
       "version_major": 2,
       "version_minor": 0
      },
      "text/plain": [
       "FigureWidget({\n",
       "    'data': [{'line': {'color': 'MediumTurquoise'},\n",
       "              'mode': 'lines',\n",
       "            …"
      ]
     },
     "metadata": {},
     "output_type": "display_data"
    }
   ],
   "source": [
    "# function to handle input from the widgets, and alter the state of the graph\n",
    "# for use of decorator `@interact` see https://plotly.com/python/v3/interact-decorator/\n",
    "# find line parameters at https://plotly.com/python/line-charts/ \n",
    "# find color names at https://www.w3schools.com/colors/colors_names.asp\n",
    "# find \"clear graph or trace\" at https://community.plotly.com/t/remove-all-traces/13469 \n",
    "\n",
    "@interact(YVR_raw = True, Abb_raw = True, YVR_smooth = False, Abb_smooth = False, YVR_mda8 = False, Abb_mda8 = False)\n",
    "def update(YVR_raw, Abb_raw, YVR_smooth, Abb_smooth, YVR_mda8, Abb_mda8):\n",
    "    g.data = []           # clear the graph\n",
    "    g.layout.title = \"\"   # clear the title\n",
    "    \n",
    "    if YVR_raw:\n",
    "        g.add_scatter(x=all_O3.index, y=all_O3.YVR_ppb, mode=\"lines\", \n",
    "                      line=dict(color='MediumTurquoise'), name=\"YVR\")\n",
    "        g.layout.title = \"YVR\"\n",
    "    if Abb_raw:\n",
    "        g.add_scatter(x=all_O3.index, y=all_O3.Abbotsford_ppb, mode=\"lines\", \n",
    "                      line=dict(color='SandyBrown'), name=\"Abb\")\n",
    "        g.layout.title = \"Abb\"\n",
    "    if YVR_smooth:\n",
    "        g.add_scatter(x=all_O3.index, y=all_O3.YVR_smoothed, mode=\"lines\", \n",
    "                      line=dict(color='green'), name=\"YVR smooth\")\n",
    "        g.layout.title = \"YVR\"\n",
    "    if Abb_smooth:\n",
    "        g.add_scatter(x=all_O3.index, y=all_O3.Abb_smoothed, mode=\"lines\", \n",
    "                      line=dict(color='red'), name=\"Abb smooth\")\n",
    "        g.layout.title = \"Abb\"\n",
    "    if YVR_mda8:  # different \"x\" because mda8 has daily values, not hourly values. \n",
    "        g.add_scatter(x=YVR_max8hrsavg.index, y=YVR_max8hrsavg, mode=\"lines\", \n",
    "                      line=dict(color='blue', width=2), name=\"YVR mda8\")\n",
    "        g.layout.title = \"YVR\"\n",
    "    if Abb_mda8:\n",
    "        g.add_scatter(x=YVR_max8hrsavg.index, y=Abb_max8hrsavg, mode=\"lines\", \n",
    "                      line=dict(color='firebrick', width=2), name=\"Abb mda8\")\n",
    "        g.layout.title = \"Abb\"\n",
    "\n",
    "    if (YVR_raw or YVR_smooth or YVR_mda8) and (Abb_raw or Abb_smooth or Abb_mda8):\n",
    "        g.layout.title = \"YVR and Abb\"\n",
    "\n",
    "g\n",
    "\n",
    "# Problem with this version is I'm not sure we can build containors to format the dashboard. "
   ]
  },
  {
   "cell_type": "code",
   "execution_count": null,
   "metadata": {},
   "outputs": [],
   "source": []
  },
  {
   "cell_type": "code",
   "execution_count": null,
   "metadata": {},
   "outputs": [],
   "source": []
  }
 ],
 "metadata": {
  "jupytext": {
   "cell_metadata_filter": "-all",
   "notebook_metadata_filter": "-all",
   "text_representation": {
    "extension": ".md",
    "format_name": "markdown"
   }
  },
  "kernelspec": {
   "display_name": "Python 3",
   "language": "python",
   "name": "python3"
  },
  "language_info": {
   "codemirror_mode": {
    "name": "ipython",
    "version": 3
   },
   "file_extension": ".py",
   "mimetype": "text/x-python",
   "name": "python",
   "nbconvert_exporter": "python",
   "pygments_lexer": "ipython3",
   "version": "3.7.8"
  }
 },
 "nbformat": 4,
 "nbformat_minor": 4
}
