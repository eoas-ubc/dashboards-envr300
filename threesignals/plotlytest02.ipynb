{
 "cells": [
  {
   "cell_type": "markdown",
   "metadata": {},
   "source": [
    "## To see if plotly can be used for plotting in dashboards."
   ]
  },
  {
   "cell_type": "markdown",
   "metadata": {},
   "source": [
    "Sources for figuring this out is: \n",
    "* see plotytest01 for first attempts. That worked but didn't work in Voila.\n",
    "* The solution used below is suggested by the page: https://github.com/voila-dashboards/voila/issues/284\n",
    "* plotly figurewidget was made to run in Voila using guidelines here: https://plotly.com/python/figurewidget-app/\n",
    "* However, that example does not re-calculate a time series. It uses widgets to fetch different data from a frame. I'll try an approach using dataframes later. \n",
    "* Recaluating our time series each time is probably not efficient, but it seems to work.\n",
    "* Also, the \"Figure\" data structure is detailed in https://plotly.com/python/figure-structure/\n",
    "* Layout details are at https://plotly.com/python/reference/layout/, and other details via that page's left menu."
   ]
  },
  {
   "cell_type": "code",
   "execution_count": 1,
   "metadata": {
    "execution": {
     "iopub.execute_input": "2020-11-17T18:39:59.563841Z",
     "iopub.status.busy": "2020-11-17T18:39:59.563562Z",
     "iopub.status.idle": "2020-11-17T18:39:59.656970Z",
     "shell.execute_reply": "2020-11-17T18:39:59.657393Z"
    }
   },
   "outputs": [
    {
     "data": {
      "text/html": [
       "        <script type=\"text/javascript\">\n",
       "        window.PlotlyConfig = {MathJaxConfig: 'local'};\n",
       "        if (window.MathJax) {MathJax.Hub.Config({SVG: {font: \"STIX-Web\"}});}\n",
       "        if (typeof require !== 'undefined') {\n",
       "        require.undef(\"plotly\");\n",
       "        requirejs.config({\n",
       "            paths: {\n",
       "                'plotly': ['https://cdn.plot.ly/plotly-latest.min']\n",
       "            }\n",
       "        });\n",
       "        require(['plotly'], function(Plotly) {\n",
       "            window._Plotly = Plotly;\n",
       "        });\n",
       "        }\n",
       "        </script>\n",
       "        "
      ]
     },
     "metadata": {},
     "output_type": "display_data"
    }
   ],
   "source": [
    "import plotly\n",
    "import plotly.graph_objs as go\n",
    "from plotly.offline import iplot, init_notebook_mode\n",
    "init_notebook_mode(connected = True)\n",
    "import numpy as np\n",
    "from numpy import random\n",
    "import math #needed for definition of pi\n",
    "import ipywidgets as widgets"
   ]
  },
  {
   "cell_type": "code",
   "execution_count": 2,
   "metadata": {
    "execution": {
     "iopub.execute_input": "2020-11-17T18:39:59.659129Z",
     "iopub.status.busy": "2020-11-17T18:39:59.658725Z",
     "iopub.status.idle": "2020-11-17T18:39:59.687787Z",
     "shell.execute_reply": "2020-11-17T18:39:59.687513Z"
    }
   },
   "outputs": [],
   "source": [
    "# This time we start by defining the widget objects\n",
    "\n",
    "ncycles = widgets.FloatSlider(\n",
    "    min=1, max=10, step=0.25, value=2.0, description='Num. cycles'\n",
    ")\n",
    "\n",
    "noiselevel = widgets.FloatSlider(\n",
    "    min=0, max=5, step=0.25, value=1.0, description='Noise'\n",
    ")\n",
    "\n",
    "draw_s = widgets.Checkbox(\n",
    "    value=True,\n",
    "    description='Sine wave',\n",
    "    disabled=False,\n",
    "    indent=True\n",
    ")\n",
    "\n",
    "draw_r = widgets.Checkbox(\n",
    "    value=True,\n",
    "    description='Random noise',\n",
    "    disabled=False,\n",
    "    indent=True\n",
    ")\n",
    "\n",
    "draw_t = widgets.Checkbox(\n",
    "    value=True,\n",
    "    description='Trend line',\n",
    "    disabled=False,\n",
    "    indent=True\n",
    ") \n",
    "\n",
    "# Begin to define the layout of the dashboard. The Vbox puts three checkboxes in a column. \n",
    "container1 = widgets.VBox(children=[draw_s, draw_r, draw_t]) "
   ]
  },
  {
   "cell_type": "code",
   "execution_count": 3,
   "metadata": {
    "execution": {
     "iopub.execute_input": "2020-11-17T18:39:59.691925Z",
     "iopub.status.busy": "2020-11-17T18:39:59.691644Z",
     "iopub.status.idle": "2020-11-17T18:39:59.809857Z",
     "shell.execute_reply": "2020-11-17T18:39:59.810135Z"
    }
   },
   "outputs": [],
   "source": [
    "# build the X-axis first, then the three time series: \n",
    "\n",
    "xpoints = np.arange(0, ncycles.value, 0.05)\n",
    "N=len(xpoints)         #this may not be the most sophisticated approach \n",
    "ypoints = np.sin(xpoints*2*math.pi)\n",
    "randpoints = noiselevel.value * (random.rand(N)-.5)\n",
    "trendpoints = 0.4*xpoints + 0.5\n",
    "\n",
    "# The trace to display is a sum of the three components. \n",
    "# Turn components on or off by multiplying by the binary values returned by check box widgets: \"component.value\". \n",
    "\n",
    "sumpoints = draw_s.value*ypoints + draw_r.value*randpoints + draw_t.value*trendpoints\n",
    "\n",
    "# The graph (or 'trace') for the figure will be defined as a scatter plot, of type \"lines\".\n",
    "trace1 = go.Scatter(x=xpoints, y=sumpoints, mode=\"lines\")\n",
    "\n",
    "# Now build the figure and define non-default parameters for this figure\n",
    "g = go.FigureWidget(data=[trace1], \n",
    "                    layout=go.Layout(title=dict(text='Sinewave + trend + noise')))\n",
    "\n",
    "g.layout.width = 700\n",
    "g.layout.height = 450\n",
    "g.layout.xaxis.title = 'x axis'\n",
    "g.layout.yaxis.title = 'Amplitude'\n",
    "g.layout.xaxis.range=[0.,11.]\n",
    "g.layout.yaxis.range=[-4.,8.]"
   ]
  },
  {
   "cell_type": "code",
   "execution_count": 4,
   "metadata": {
    "execution": {
     "iopub.execute_input": "2020-11-17T18:39:59.814252Z",
     "iopub.status.busy": "2020-11-17T18:39:59.813965Z",
     "iopub.status.idle": "2020-11-17T18:39:59.815131Z",
     "shell.execute_reply": "2020-11-17T18:39:59.815355Z"
    }
   },
   "outputs": [],
   "source": [
    "# function to handle input from the widgets, and alter the state of the graph\n",
    "\n",
    "def response(change):   \n",
    "    xpoints = np.arange(0, ncycles.value, 0.05)\n",
    "    N=len(xpoints)         #this may not be the most sophisticated approach \n",
    "    ypoints = np.sin(xpoints*2*math.pi)\n",
    "    randpoints = noiselevel.value * (random.rand(N)-.5)\n",
    "    trendpoints = 0.4*xpoints + 0.5\n",
    "\n",
    "    sumpoints = draw_s.value*ypoints + draw_r.value*randpoints + draw_t.value*trendpoints\n",
    "    \n",
    "    # I don't really understand \"with\", but it seems to work. \n",
    "    # This time there is just one trace in the graph with x and y values.\n",
    "    with g.batch_update():\n",
    "        g.data[0].x = xpoints\n",
    "        g.data[0].y = sumpoints\n",
    "\n",
    "# The next few calls I don't really understand. \n",
    "# Presumably I have to look up what the \"observe\" method is for \"widget\" objects. \n",
    "# It seems as if the \"observe\" method needs two parameters: 1) the function to call and 2) the \"names\" parameters. \n",
    "# `names=\"value\"` seems to be saying: \"pass these parameters with their values into the 'response' function\". \n",
    "# Or something like that.\n",
    "\n",
    "ncycles.observe(response, names=\"value\")\n",
    "noiselevel.observe(response, names=\"value\")\n",
    "draw_s.observe(response, names=\"value\")\n",
    "draw_r.observe(response, names=\"value\")\n",
    "draw_t.observe(response, names=\"value\")\n"
   ]
  },
  {
   "cell_type": "code",
   "execution_count": 5,
   "metadata": {
    "execution": {
     "iopub.execute_input": "2020-11-17T18:39:59.818486Z",
     "iopub.status.busy": "2020-11-17T18:39:59.818171Z",
     "iopub.status.idle": "2020-11-17T18:39:59.827780Z",
     "shell.execute_reply": "2020-11-17T18:39:59.828002Z"
    }
   },
   "outputs": [
    {
     "data": {
      "application/vnd.jupyter.widget-view+json": {
       "model_id": "333c53ef1ee246929bf0e0dc80915540",
       "version_major": 2,
       "version_minor": 0
      },
      "text/plain": [
       "VBox(children=(VBox(children=(Checkbox(value=True, description='Sine wave'), Checkbox(value=True, description=…"
      ]
     },
     "metadata": {},
     "output_type": "display_data"
    }
   ],
   "source": [
    "# Finish building the layout, this time an Hbox for the two sliders. \n",
    "container2 = widgets.HBox([ncycles, noiselevel])\n",
    "\n",
    "# Finally, run the dashboard. \n",
    "widgets.VBox([container1, container2, g])"
   ]
  }
 ],
 "metadata": {
  "jupytext": {
   "formats": "ipynb,md"
  },
  "kernelspec": {
   "display_name": "Python 3",
   "language": "python",
   "name": "python3"
  },
  "language_info": {
   "codemirror_mode": {
    "name": "ipython",
    "version": 3
   },
   "file_extension": ".py",
   "mimetype": "text/x-python",
   "name": "python",
   "nbconvert_exporter": "python",
   "pygments_lexer": "ipython3",
   "version": "3.7.8"
  },
  "widgets": {
   "application/vnd.jupyter.widget-state+json": {
    "state": {
     "002224ccca53412cb8464434622c6b4b": {
      "model_module": "@jupyter-widgets/base",
      "model_module_version": "1.2.0",
      "model_name": "LayoutModel",
      "state": {
       "_model_module": "@jupyter-widgets/base",
       "_model_module_version": "1.2.0",
       "_model_name": "LayoutModel",
       "_view_count": null,
       "_view_module": "@jupyter-widgets/base",
       "_view_module_version": "1.2.0",
       "_view_name": "LayoutView",
       "align_content": null,
       "align_items": null,
       "align_self": null,
       "border": null,
       "bottom": null,
       "display": null,
       "flex": null,
       "flex_flow": null,
       "grid_area": null,
       "grid_auto_columns": null,
       "grid_auto_flow": null,
       "grid_auto_rows": null,
       "grid_column": null,
       "grid_gap": null,
       "grid_row": null,
       "grid_template_areas": null,
       "grid_template_columns": null,
       "grid_template_rows": null,
       "height": null,
       "justify_content": null,
       "justify_items": null,
       "left": null,
       "margin": null,
       "max_height": null,
       "max_width": null,
       "min_height": null,
       "min_width": null,
       "object_fit": null,
       "object_position": null,
       "order": null,
       "overflow": null,
       "overflow_x": null,
       "overflow_y": null,
       "padding": null,
       "right": null,
       "top": null,
       "visibility": null,
       "width": null
      }
     },
     "09497867c17d4f9bb13a7cae883b498e": {
      "buffers": [
       {
        "data": "AAAAAAAAAACamZmZmZmpP5qZmZmZmbk/NDMzMzMzwz+amZmZmZnJPwAAAAAAANA/NDMzMzMz0z9nZmZmZmbWP5qZmZmZmdk/zczMzMzM3D8AAAAAAADgP5qZmZmZmeE/NDMzMzMz4z/NzMzMzMzkP2dmZmZmZuY/AAAAAAAA6D+amZmZmZnpPzQzMzMzM+s/zczMzMzM7D9nZmZmZmbuPwAAAAAAAPA/zczMzMzM8D+amZmZmZnxP2dmZmZmZvI/NDMzMzMz8z8AAAAAAAD0P83MzMzMzPQ/mpmZmZmZ9T9nZmZmZmb2PzQzMzMzM/c/AAAAAAAA+D/NzMzMzMz4P5qZmZmZmfk/Z2ZmZmZm+j80MzMzMzP7PwAAAAAAAPw/zczMzMzM/D+amZmZmZn9P2dmZmZmZv4/NDMzMzMz/z8=",
        "encoding": "base64",
        "path": [
         "_data",
         0,
         "x",
         "buffer"
        ]
       },
       {
        "data": "8JsmI/ckpz9MGcPbk3bhPziASKCjbfY/arEGzo6b+D8P410QcPH+P4KOUKjZVvM/vhh2gUCl/D/Wugluo5nyP2xXz4GZZPI/PjXz4j/89T/mDR1MwdjYP3/64h1319w/fMV7AOZv1j8AJVkZ4bV+v2A6Qg0Vpq2/KsXPOnAO5L9AgtwyDFHDvwC49BeWYnA/sGa1+NbOwb8ma1otPZPlP4Goa8TmaeU/I5y2xQWQ8j9yQBTZIUP7P31vPfOttABAJ4zta+vkAEBx/XDhqaP8P6k2YdZ6eANAJN8mGXQD+T8FYkyfct/6P5CwC1DR5f0/OivUcrf+6D/EgS3PqwngPxXybamC0uA/oID6vNd1vr+gPds7bzjEvyYW+MXfHeE/95b5XQD75j/vpNrM1e/qPxBXN0k3W98/iNTKdbNL3j8=",
        "encoding": "base64",
        "path": [
         "_data",
         0,
         "y",
         "buffer"
        ]
       }
      ],
      "model_module": "plotlywidget",
      "model_module_version": "^4.12.0",
      "model_name": "FigureModel",
      "state": {
       "_config": {
        "plotlyServerURL": "https://plot.ly"
       },
       "_data": [
        {
         "mode": "lines",
         "type": "scatter",
         "uid": "f9131d74-148a-4db5-aa99-5538bce33c70",
         "x": {
          "dtype": "float64",
          "shape": [
           40
          ]
         },
         "y": {
          "dtype": "float64",
          "shape": [
           40
          ]
         }
        }
       ],
       "_dom_classes": [],
       "_js2py_layoutDelta": {},
       "_js2py_pointsCallback": {},
       "_js2py_relayout": {},
       "_js2py_restyle": {},
       "_js2py_traceDeltas": {},
       "_js2py_update": {},
       "_last_layout_edit_id": 6,
       "_last_trace_edit_id": 0,
       "_layout": {
        "title": {
         "text": "Sinewave + trend + noise"
        }
       },
       "_model_module": "plotlywidget",
       "_model_module_version": "^4.12.0",
       "_model_name": "FigureModel",
       "_py2js_addTraces": {},
       "_py2js_animate": {},
       "_py2js_deleteTraces": {},
       "_py2js_moveTraces": {},
       "_py2js_relayout": null,
       "_py2js_removeLayoutProps": {},
       "_py2js_removeTraceProps": {},
       "_py2js_restyle": {},
       "_py2js_update": {},
       "_view_count": 0,
       "_view_module": "plotlywidget",
       "_view_module_version": "^4.12.0",
       "_view_name": "FigureView"
      }
     },
     "1211af8b2a0a47afba106e4ce3243e7f": {
      "model_module": "@jupyter-widgets/controls",
      "model_module_version": "1.5.0",
      "model_name": "FloatSliderModel",
      "state": {
       "_dom_classes": [],
       "_model_module": "@jupyter-widgets/controls",
       "_model_module_version": "1.5.0",
       "_model_name": "FloatSliderModel",
       "_view_count": null,
       "_view_module": "@jupyter-widgets/controls",
       "_view_module_version": "1.5.0",
       "_view_name": "FloatSliderView",
       "continuous_update": true,
       "description": "Num. cycles",
       "description_tooltip": null,
       "disabled": false,
       "layout": "IPY_MODEL_8aee2fbb660a443ab72c3066572c70fb",
       "max": 10.0,
       "min": 1.0,
       "orientation": "horizontal",
       "readout": true,
       "readout_format": ".2f",
       "step": 0.25,
       "style": "IPY_MODEL_d00a1b7d7603405fac4213856c19fd1b",
       "value": 2.0
      }
     },
     "2c3d6d7fe91c44169cbefc14fbc36a7e": {
      "model_module": "@jupyter-widgets/controls",
      "model_module_version": "1.5.0",
      "model_name": "DescriptionStyleModel",
      "state": {
       "_model_module": "@jupyter-widgets/controls",
       "_model_module_version": "1.5.0",
       "_model_name": "DescriptionStyleModel",
       "_view_count": null,
       "_view_module": "@jupyter-widgets/base",
       "_view_module_version": "1.2.0",
       "_view_name": "StyleView",
       "description_width": ""
      }
     },
     "31b2ba35be8f484a955b275d03e7e901": {
      "model_module": "@jupyter-widgets/controls",
      "model_module_version": "1.5.0",
      "model_name": "DescriptionStyleModel",
      "state": {
       "_model_module": "@jupyter-widgets/controls",
       "_model_module_version": "1.5.0",
       "_model_name": "DescriptionStyleModel",
       "_view_count": null,
       "_view_module": "@jupyter-widgets/base",
       "_view_module_version": "1.2.0",
       "_view_name": "StyleView",
       "description_width": ""
      }
     },
     "333c53ef1ee246929bf0e0dc80915540": {
      "model_module": "@jupyter-widgets/controls",
      "model_module_version": "1.5.0",
      "model_name": "VBoxModel",
      "state": {
       "_dom_classes": [],
       "_model_module": "@jupyter-widgets/controls",
       "_model_module_version": "1.5.0",
       "_model_name": "VBoxModel",
       "_view_count": null,
       "_view_module": "@jupyter-widgets/controls",
       "_view_module_version": "1.5.0",
       "_view_name": "VBoxView",
       "box_style": "",
       "children": [
        "IPY_MODEL_d7a3eca56e6849ecacd1c24bb751be2c",
        "IPY_MODEL_8b6ddf76341345e6b8207bc3abd457a7",
        "IPY_MODEL_09497867c17d4f9bb13a7cae883b498e"
       ],
       "layout": "IPY_MODEL_002224ccca53412cb8464434622c6b4b"
      }
     },
     "39ad30102cf64d69ac789c0dcbf21438": {
      "model_module": "@jupyter-widgets/base",
      "model_module_version": "1.2.0",
      "model_name": "LayoutModel",
      "state": {
       "_model_module": "@jupyter-widgets/base",
       "_model_module_version": "1.2.0",
       "_model_name": "LayoutModel",
       "_view_count": null,
       "_view_module": "@jupyter-widgets/base",
       "_view_module_version": "1.2.0",
       "_view_name": "LayoutView",
       "align_content": null,
       "align_items": null,
       "align_self": null,
       "border": null,
       "bottom": null,
       "display": null,
       "flex": null,
       "flex_flow": null,
       "grid_area": null,
       "grid_auto_columns": null,
       "grid_auto_flow": null,
       "grid_auto_rows": null,
       "grid_column": null,
       "grid_gap": null,
       "grid_row": null,
       "grid_template_areas": null,
       "grid_template_columns": null,
       "grid_template_rows": null,
       "height": null,
       "justify_content": null,
       "justify_items": null,
       "left": null,
       "margin": null,
       "max_height": null,
       "max_width": null,
       "min_height": null,
       "min_width": null,
       "object_fit": null,
       "object_position": null,
       "order": null,
       "overflow": null,
       "overflow_x": null,
       "overflow_y": null,
       "padding": null,
       "right": null,
       "top": null,
       "visibility": null,
       "width": null
      }
     },
     "42871d656dcb42b49b0225526ba7703d": {
      "model_module": "@jupyter-widgets/controls",
      "model_module_version": "1.5.0",
      "model_name": "FloatSliderModel",
      "state": {
       "_dom_classes": [],
       "_model_module": "@jupyter-widgets/controls",
       "_model_module_version": "1.5.0",
       "_model_name": "FloatSliderModel",
       "_view_count": null,
       "_view_module": "@jupyter-widgets/controls",
       "_view_module_version": "1.5.0",
       "_view_name": "FloatSliderView",
       "continuous_update": true,
       "description": "Noise",
       "description_tooltip": null,
       "disabled": false,
       "layout": "IPY_MODEL_b5c0397229f8428daaeef41bde396b53",
       "max": 5.0,
       "min": 0.0,
       "orientation": "horizontal",
       "readout": true,
       "readout_format": ".2f",
       "step": 0.25,
       "style": "IPY_MODEL_f6ccdf7caec44906b87d4638d51dd710",
       "value": 1.0
      }
     },
     "47ce0fc82ddc4b58be1f2e72ebbad4e8": {
      "model_module": "@jupyter-widgets/controls",
      "model_module_version": "1.5.0",
      "model_name": "CheckboxModel",
      "state": {
       "_dom_classes": [],
       "_model_module": "@jupyter-widgets/controls",
       "_model_module_version": "1.5.0",
       "_model_name": "CheckboxModel",
       "_view_count": null,
       "_view_module": "@jupyter-widgets/controls",
       "_view_module_version": "1.5.0",
       "_view_name": "CheckboxView",
       "description": "Sine wave",
       "description_tooltip": null,
       "disabled": false,
       "indent": true,
       "layout": "IPY_MODEL_7811ffacf960447a9e0a8206049d7b1f",
       "style": "IPY_MODEL_31b2ba35be8f484a955b275d03e7e901",
       "value": true
      }
     },
     "5fb0466fbf054e8f960d159639e9fd43": {
      "model_module": "@jupyter-widgets/base",
      "model_module_version": "1.2.0",
      "model_name": "LayoutModel",
      "state": {
       "_model_module": "@jupyter-widgets/base",
       "_model_module_version": "1.2.0",
       "_model_name": "LayoutModel",
       "_view_count": null,
       "_view_module": "@jupyter-widgets/base",
       "_view_module_version": "1.2.0",
       "_view_name": "LayoutView",
       "align_content": null,
       "align_items": null,
       "align_self": null,
       "border": null,
       "bottom": null,
       "display": null,
       "flex": null,
       "flex_flow": null,
       "grid_area": null,
       "grid_auto_columns": null,
       "grid_auto_flow": null,
       "grid_auto_rows": null,
       "grid_column": null,
       "grid_gap": null,
       "grid_row": null,
       "grid_template_areas": null,
       "grid_template_columns": null,
       "grid_template_rows": null,
       "height": null,
       "justify_content": null,
       "justify_items": null,
       "left": null,
       "margin": null,
       "max_height": null,
       "max_width": null,
       "min_height": null,
       "min_width": null,
       "object_fit": null,
       "object_position": null,
       "order": null,
       "overflow": null,
       "overflow_x": null,
       "overflow_y": null,
       "padding": null,
       "right": null,
       "top": null,
       "visibility": null,
       "width": null
      }
     },
     "5ff2803180454478b2f62c078756b0c6": {
      "model_module": "@jupyter-widgets/controls",
      "model_module_version": "1.5.0",
      "model_name": "CheckboxModel",
      "state": {
       "_dom_classes": [],
       "_model_module": "@jupyter-widgets/controls",
       "_model_module_version": "1.5.0",
       "_model_name": "CheckboxModel",
       "_view_count": null,
       "_view_module": "@jupyter-widgets/controls",
       "_view_module_version": "1.5.0",
       "_view_name": "CheckboxView",
       "description": "Trend line",
       "description_tooltip": null,
       "disabled": false,
       "indent": true,
       "layout": "IPY_MODEL_d87b74b2c3794bd1b81e935140856e95",
       "style": "IPY_MODEL_689cb021c1914b718ec21fe22586f157",
       "value": true
      }
     },
     "689cb021c1914b718ec21fe22586f157": {
      "model_module": "@jupyter-widgets/controls",
      "model_module_version": "1.5.0",
      "model_name": "DescriptionStyleModel",
      "state": {
       "_model_module": "@jupyter-widgets/controls",
       "_model_module_version": "1.5.0",
       "_model_name": "DescriptionStyleModel",
       "_view_count": null,
       "_view_module": "@jupyter-widgets/base",
       "_view_module_version": "1.2.0",
       "_view_name": "StyleView",
       "description_width": ""
      }
     },
     "73e7ca533ab4437587528dd5ca59b39e": {
      "model_module": "@jupyter-widgets/base",
      "model_module_version": "1.2.0",
      "model_name": "LayoutModel",
      "state": {
       "_model_module": "@jupyter-widgets/base",
       "_model_module_version": "1.2.0",
       "_model_name": "LayoutModel",
       "_view_count": null,
       "_view_module": "@jupyter-widgets/base",
       "_view_module_version": "1.2.0",
       "_view_name": "LayoutView",
       "align_content": null,
       "align_items": null,
       "align_self": null,
       "border": null,
       "bottom": null,
       "display": null,
       "flex": null,
       "flex_flow": null,
       "grid_area": null,
       "grid_auto_columns": null,
       "grid_auto_flow": null,
       "grid_auto_rows": null,
       "grid_column": null,
       "grid_gap": null,
       "grid_row": null,
       "grid_template_areas": null,
       "grid_template_columns": null,
       "grid_template_rows": null,
       "height": null,
       "justify_content": null,
       "justify_items": null,
       "left": null,
       "margin": null,
       "max_height": null,
       "max_width": null,
       "min_height": null,
       "min_width": null,
       "object_fit": null,
       "object_position": null,
       "order": null,
       "overflow": null,
       "overflow_x": null,
       "overflow_y": null,
       "padding": null,
       "right": null,
       "top": null,
       "visibility": null,
       "width": null
      }
     },
     "7811ffacf960447a9e0a8206049d7b1f": {
      "model_module": "@jupyter-widgets/base",
      "model_module_version": "1.2.0",
      "model_name": "LayoutModel",
      "state": {
       "_model_module": "@jupyter-widgets/base",
       "_model_module_version": "1.2.0",
       "_model_name": "LayoutModel",
       "_view_count": null,
       "_view_module": "@jupyter-widgets/base",
       "_view_module_version": "1.2.0",
       "_view_name": "LayoutView",
       "align_content": null,
       "align_items": null,
       "align_self": null,
       "border": null,
       "bottom": null,
       "display": null,
       "flex": null,
       "flex_flow": null,
       "grid_area": null,
       "grid_auto_columns": null,
       "grid_auto_flow": null,
       "grid_auto_rows": null,
       "grid_column": null,
       "grid_gap": null,
       "grid_row": null,
       "grid_template_areas": null,
       "grid_template_columns": null,
       "grid_template_rows": null,
       "height": null,
       "justify_content": null,
       "justify_items": null,
       "left": null,
       "margin": null,
       "max_height": null,
       "max_width": null,
       "min_height": null,
       "min_width": null,
       "object_fit": null,
       "object_position": null,
       "order": null,
       "overflow": null,
       "overflow_x": null,
       "overflow_y": null,
       "padding": null,
       "right": null,
       "top": null,
       "visibility": null,
       "width": null
      }
     },
     "8aee2fbb660a443ab72c3066572c70fb": {
      "model_module": "@jupyter-widgets/base",
      "model_module_version": "1.2.0",
      "model_name": "LayoutModel",
      "state": {
       "_model_module": "@jupyter-widgets/base",
       "_model_module_version": "1.2.0",
       "_model_name": "LayoutModel",
       "_view_count": null,
       "_view_module": "@jupyter-widgets/base",
       "_view_module_version": "1.2.0",
       "_view_name": "LayoutView",
       "align_content": null,
       "align_items": null,
       "align_self": null,
       "border": null,
       "bottom": null,
       "display": null,
       "flex": null,
       "flex_flow": null,
       "grid_area": null,
       "grid_auto_columns": null,
       "grid_auto_flow": null,
       "grid_auto_rows": null,
       "grid_column": null,
       "grid_gap": null,
       "grid_row": null,
       "grid_template_areas": null,
       "grid_template_columns": null,
       "grid_template_rows": null,
       "height": null,
       "justify_content": null,
       "justify_items": null,
       "left": null,
       "margin": null,
       "max_height": null,
       "max_width": null,
       "min_height": null,
       "min_width": null,
       "object_fit": null,
       "object_position": null,
       "order": null,
       "overflow": null,
       "overflow_x": null,
       "overflow_y": null,
       "padding": null,
       "right": null,
       "top": null,
       "visibility": null,
       "width": null
      }
     },
     "8b6ddf76341345e6b8207bc3abd457a7": {
      "model_module": "@jupyter-widgets/controls",
      "model_module_version": "1.5.0",
      "model_name": "HBoxModel",
      "state": {
       "_dom_classes": [],
       "_model_module": "@jupyter-widgets/controls",
       "_model_module_version": "1.5.0",
       "_model_name": "HBoxModel",
       "_view_count": null,
       "_view_module": "@jupyter-widgets/controls",
       "_view_module_version": "1.5.0",
       "_view_name": "HBoxView",
       "box_style": "",
       "children": [
        "IPY_MODEL_1211af8b2a0a47afba106e4ce3243e7f",
        "IPY_MODEL_42871d656dcb42b49b0225526ba7703d"
       ],
       "layout": "IPY_MODEL_5fb0466fbf054e8f960d159639e9fd43"
      }
     },
     "b5c0397229f8428daaeef41bde396b53": {
      "model_module": "@jupyter-widgets/base",
      "model_module_version": "1.2.0",
      "model_name": "LayoutModel",
      "state": {
       "_model_module": "@jupyter-widgets/base",
       "_model_module_version": "1.2.0",
       "_model_name": "LayoutModel",
       "_view_count": null,
       "_view_module": "@jupyter-widgets/base",
       "_view_module_version": "1.2.0",
       "_view_name": "LayoutView",
       "align_content": null,
       "align_items": null,
       "align_self": null,
       "border": null,
       "bottom": null,
       "display": null,
       "flex": null,
       "flex_flow": null,
       "grid_area": null,
       "grid_auto_columns": null,
       "grid_auto_flow": null,
       "grid_auto_rows": null,
       "grid_column": null,
       "grid_gap": null,
       "grid_row": null,
       "grid_template_areas": null,
       "grid_template_columns": null,
       "grid_template_rows": null,
       "height": null,
       "justify_content": null,
       "justify_items": null,
       "left": null,
       "margin": null,
       "max_height": null,
       "max_width": null,
       "min_height": null,
       "min_width": null,
       "object_fit": null,
       "object_position": null,
       "order": null,
       "overflow": null,
       "overflow_x": null,
       "overflow_y": null,
       "padding": null,
       "right": null,
       "top": null,
       "visibility": null,
       "width": null
      }
     },
     "cda784f794204d3cb754eab634e760ff": {
      "model_module": "@jupyter-widgets/controls",
      "model_module_version": "1.5.0",
      "model_name": "CheckboxModel",
      "state": {
       "_dom_classes": [],
       "_model_module": "@jupyter-widgets/controls",
       "_model_module_version": "1.5.0",
       "_model_name": "CheckboxModel",
       "_view_count": null,
       "_view_module": "@jupyter-widgets/controls",
       "_view_module_version": "1.5.0",
       "_view_name": "CheckboxView",
       "description": "Random noise",
       "description_tooltip": null,
       "disabled": false,
       "indent": true,
       "layout": "IPY_MODEL_39ad30102cf64d69ac789c0dcbf21438",
       "style": "IPY_MODEL_2c3d6d7fe91c44169cbefc14fbc36a7e",
       "value": true
      }
     },
     "d00a1b7d7603405fac4213856c19fd1b": {
      "model_module": "@jupyter-widgets/controls",
      "model_module_version": "1.5.0",
      "model_name": "SliderStyleModel",
      "state": {
       "_model_module": "@jupyter-widgets/controls",
       "_model_module_version": "1.5.0",
       "_model_name": "SliderStyleModel",
       "_view_count": null,
       "_view_module": "@jupyter-widgets/base",
       "_view_module_version": "1.2.0",
       "_view_name": "StyleView",
       "description_width": "",
       "handle_color": null
      }
     },
     "d7a3eca56e6849ecacd1c24bb751be2c": {
      "model_module": "@jupyter-widgets/controls",
      "model_module_version": "1.5.0",
      "model_name": "VBoxModel",
      "state": {
       "_dom_classes": [],
       "_model_module": "@jupyter-widgets/controls",
       "_model_module_version": "1.5.0",
       "_model_name": "VBoxModel",
       "_view_count": null,
       "_view_module": "@jupyter-widgets/controls",
       "_view_module_version": "1.5.0",
       "_view_name": "VBoxView",
       "box_style": "",
       "children": [
        "IPY_MODEL_47ce0fc82ddc4b58be1f2e72ebbad4e8",
        "IPY_MODEL_cda784f794204d3cb754eab634e760ff",
        "IPY_MODEL_5ff2803180454478b2f62c078756b0c6"
       ],
       "layout": "IPY_MODEL_73e7ca533ab4437587528dd5ca59b39e"
      }
     },
     "d87b74b2c3794bd1b81e935140856e95": {
      "model_module": "@jupyter-widgets/base",
      "model_module_version": "1.2.0",
      "model_name": "LayoutModel",
      "state": {
       "_model_module": "@jupyter-widgets/base",
       "_model_module_version": "1.2.0",
       "_model_name": "LayoutModel",
       "_view_count": null,
       "_view_module": "@jupyter-widgets/base",
       "_view_module_version": "1.2.0",
       "_view_name": "LayoutView",
       "align_content": null,
       "align_items": null,
       "align_self": null,
       "border": null,
       "bottom": null,
       "display": null,
       "flex": null,
       "flex_flow": null,
       "grid_area": null,
       "grid_auto_columns": null,
       "grid_auto_flow": null,
       "grid_auto_rows": null,
       "grid_column": null,
       "grid_gap": null,
       "grid_row": null,
       "grid_template_areas": null,
       "grid_template_columns": null,
       "grid_template_rows": null,
       "height": null,
       "justify_content": null,
       "justify_items": null,
       "left": null,
       "margin": null,
       "max_height": null,
       "max_width": null,
       "min_height": null,
       "min_width": null,
       "object_fit": null,
       "object_position": null,
       "order": null,
       "overflow": null,
       "overflow_x": null,
       "overflow_y": null,
       "padding": null,
       "right": null,
       "top": null,
       "visibility": null,
       "width": null
      }
     },
     "f6ccdf7caec44906b87d4638d51dd710": {
      "model_module": "@jupyter-widgets/controls",
      "model_module_version": "1.5.0",
      "model_name": "SliderStyleModel",
      "state": {
       "_model_module": "@jupyter-widgets/controls",
       "_model_module_version": "1.5.0",
       "_model_name": "SliderStyleModel",
       "_view_count": null,
       "_view_module": "@jupyter-widgets/base",
       "_view_module_version": "1.2.0",
       "_view_name": "StyleView",
       "description_width": "",
       "handle_color": null
      }
     }
    },
    "version_major": 2,
    "version_minor": 0
   }
  }
 },
 "nbformat": 4,
 "nbformat_minor": 4
}
