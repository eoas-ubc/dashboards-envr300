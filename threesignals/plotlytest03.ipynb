{
 "cells": [
  {
   "cell_type": "markdown",
   "metadata": {},
   "source": [
    "## Signal components, with smoothing."
   ]
  },
  {
   "cell_type": "code",
   "execution_count": 1,
   "metadata": {
    "execution": {
     "iopub.execute_input": "2020-11-17T18:40:00.608353Z",
     "iopub.status.busy": "2020-11-17T18:40:00.608018Z",
     "iopub.status.idle": "2020-11-17T18:40:00.609375Z",
     "shell.execute_reply": "2020-11-17T18:40:00.609075Z"
    }
   },
   "outputs": [],
   "source": [
    "# Comemnts so they don't show up when run in Voila\n",
    "# - See plotlytest01 for first attempts. That worked but didn't work in Voila.\n",
    "# - Version plotlytest02 succeeds in the demo without the smoothing option.\n",
    "# - This version (plotlytest03) is cleaned up a bit, and adds smoothing. \n",
    "# - However it is stuck using a two-trace plot, so \"no smoothing\" means the smoothed trace is shown as zero. \n",
    "# - In other words I haven't figured out how to NOT plot one of the traces. \n",
    "\n",
    "# This dasboard starts with information shown in the dashboard explaining the purpose of the dashboard."
   ]
  },
  {
   "cell_type": "markdown",
   "metadata": {},
   "source": [
    "### Purpose\n",
    "Demonstrate a synthetic signal consisting of _data + random noise + a linear trend_. Also show effect of smoothing the noisy signal. \n",
    "\n",
    "### Instructions\n",
    "- Explore the dashboard and its controls. \n",
    "- Note that figure-viewing controls in the figure's top-right corner only appear when your mouse is within the figure. "
   ]
  },
  {
   "cell_type": "code",
   "execution_count": 2,
   "metadata": {
    "execution": {
     "iopub.execute_input": "2020-11-17T18:40:00.611789Z",
     "iopub.status.busy": "2020-11-17T18:40:00.611500Z",
     "iopub.status.idle": "2020-11-17T18:40:00.710352Z",
     "shell.execute_reply": "2020-11-17T18:40:00.710854Z"
    }
   },
   "outputs": [
    {
     "data": {
      "text/html": [
       "        <script type=\"text/javascript\">\n",
       "        window.PlotlyConfig = {MathJaxConfig: 'local'};\n",
       "        if (window.MathJax) {MathJax.Hub.Config({SVG: {font: \"STIX-Web\"}});}\n",
       "        if (typeof require !== 'undefined') {\n",
       "        require.undef(\"plotly\");\n",
       "        requirejs.config({\n",
       "            paths: {\n",
       "                'plotly': ['https://cdn.plot.ly/plotly-latest.min']\n",
       "            }\n",
       "        });\n",
       "        require(['plotly'], function(Plotly) {\n",
       "            window._Plotly = Plotly;\n",
       "        });\n",
       "        }\n",
       "        </script>\n",
       "        "
      ]
     },
     "metadata": {},
     "output_type": "display_data"
    }
   ],
   "source": [
    "import plotly\n",
    "import plotly.graph_objs as go\n",
    "from plotly.offline import iplot, init_notebook_mode\n",
    "init_notebook_mode(connected = True)\n",
    "import numpy as np\n",
    "from numpy import random\n",
    "import math #needed for definition of pi\n",
    "import ipywidgets as widgets"
   ]
  },
  {
   "cell_type": "code",
   "execution_count": 3,
   "metadata": {
    "execution": {
     "iopub.execute_input": "2020-11-17T18:40:00.712793Z",
     "iopub.status.busy": "2020-11-17T18:40:00.712313Z",
     "iopub.status.idle": "2020-11-17T18:40:00.746458Z",
     "shell.execute_reply": "2020-11-17T18:40:00.746930Z"
    }
   },
   "outputs": [],
   "source": [
    "# First assign the widgets\n",
    "\n",
    "ncycles = widgets.FloatSlider(\n",
    "    min=1, max=10, step=0.25, value=2.0, description='Num. cycles'\n",
    ")\n",
    "\n",
    "noiselevel = widgets.FloatSlider(\n",
    "    min=0, max=5, step=0.25, value=1.0, description='Noise'\n",
    ")\n",
    "\n",
    "# signal\n",
    "draw_s = widgets.Checkbox(\n",
    "    value=True,\n",
    "    description='Sine wave',\n",
    "    disabled=False,\n",
    "    indent=True\n",
    ")\n",
    "\n",
    "# smoothed result\n",
    "draw_m = widgets.Checkbox(\n",
    "    value=False,\n",
    "    description='Smoothed',\n",
    "    disabled=False,\n",
    "    indent=True\n",
    ")\n",
    "\n",
    "# random noise series\n",
    "draw_r = widgets.Checkbox(\n",
    "    value=True,\n",
    "    description='Random noise',\n",
    "    disabled=False,\n",
    "    indent=True\n",
    ")\n",
    "\n",
    "# trend line\n",
    "draw_t = widgets.Checkbox(\n",
    "    value=True,\n",
    "    description='Trend line',\n",
    "    disabled=False,\n",
    "    indent=True\n",
    ") \n",
    "\n",
    "# Begin to define the layout of the dashboard. The Vbox puts three checkboxes in a column. \n",
    "container1 = widgets.VBox(children=[draw_s, draw_r, draw_t, draw_m]) "
   ]
  },
  {
   "cell_type": "code",
   "execution_count": 4,
   "metadata": {
    "execution": {
     "iopub.execute_input": "2020-11-17T18:40:00.749907Z",
     "iopub.status.busy": "2020-11-17T18:40:00.749532Z",
     "iopub.status.idle": "2020-11-17T18:40:00.751295Z",
     "shell.execute_reply": "2020-11-17T18:40:00.750972Z"
    }
   },
   "outputs": [],
   "source": [
    "# The smoothing function\n",
    "# Discussion on options for moving avg. are at: \n",
    "# https://stackoverflow.com/questions/14313510/how-to-calculate-moving-average-using-numpy\n",
    "# \"convolve\" is quick and avoids going to pandas dataframes. However, using Pandas is probably better. \n",
    "\n",
    "def moving_avg(x, w):\n",
    "    y = np.convolve(x, np.ones(w), 'valid') / w\n",
    "    \n",
    "    # applying \"roll\" is necessary so the timeseries are aligned over the correct x-axis values. \n",
    "    # this is probably easier using data frames when x-axis will be the index frame.\n",
    "    z = np.roll(y, int(w/2))\n",
    "    \n",
    "    # roll wraps end points back to first points, so set these to zero; a cludge, but works for now.\n",
    "    z[:2] = 0\n",
    "    return z"
   ]
  },
  {
   "cell_type": "code",
   "execution_count": 5,
   "metadata": {
    "execution": {
     "iopub.execute_input": "2020-11-17T18:40:00.756058Z",
     "iopub.status.busy": "2020-11-17T18:40:00.755775Z",
     "iopub.status.idle": "2020-11-17T18:40:00.878505Z",
     "shell.execute_reply": "2020-11-17T18:40:00.878797Z"
    }
   },
   "outputs": [],
   "source": [
    "# build the X-axis first, then the three time series: \n",
    "\n",
    "xpoints = np.arange(0, ncycles.value, 0.05)\n",
    "N=len(xpoints)         #this may not be the most sophisticated approach \n",
    "ypoints = np.sin(xpoints*2*math.pi)\n",
    "randpoints = noiselevel.value * (random.rand(N)-.5)\n",
    "trendpoints = 0.4*xpoints + 0.5\n",
    "\n",
    "# The trace to display is a sum of the three components. \n",
    "# Turn components on or off by multiplying by the binary values returned by check box widgets: \"component.value\". \n",
    "# The smoothed result is a separate time series. \n",
    "# However, start with smoothed result = null so the first view has no smoothed timeseries. \n",
    "sumpoints = draw_s.value*ypoints + draw_r.value*randpoints + draw_t.value*trendpoints\n",
    "smoothpoints = []\n",
    "\n",
    "\n",
    "# The 'traces' for the figure are defined as scatter plots, of type \"lines\".\n",
    "trace0 = go.Scatter(x=xpoints, y=sumpoints, mode=\"lines\", name=\"signal\")\n",
    "trace1 = go.Scatter(x=xpoints, y=smoothpoints, mode=\"lines\", name=\"smoothed\")\n",
    "\n",
    "# Now build the figure and define non-default parameters for this figure\n",
    "g = go.FigureWidget(data=[trace0, trace1], \n",
    "                    layout=go.Layout(title=dict(text='Sinewave+trend+noise & 5-point moving average')))\n",
    "g.layout.width = 700\n",
    "g.layout.height = 450\n",
    "g.layout.xaxis.title = 'x axis'\n",
    "g.layout.yaxis.title = 'Amplitude'\n",
    "g.layout.xaxis.range=[0.,11.]\n",
    "g.layout.yaxis.range=[-4.,8.]"
   ]
  },
  {
   "cell_type": "code",
   "execution_count": 6,
   "metadata": {
    "execution": {
     "iopub.execute_input": "2020-11-17T18:40:00.883981Z",
     "iopub.status.busy": "2020-11-17T18:40:00.883670Z",
     "iopub.status.idle": "2020-11-17T18:40:00.884863Z",
     "shell.execute_reply": "2020-11-17T18:40:00.885095Z"
    }
   },
   "outputs": [],
   "source": [
    "# function to handle input from the widgets, and alter the state of the graph\n",
    "# I think this works by having the \"observe\" functions monitor the widgets and \n",
    "#   generate the calls back to the \"response\" function.\n",
    "\n",
    "def response(change):   \n",
    "    xpoints = np.arange(0, ncycles.value, 0.05)\n",
    "    N=len(xpoints)         #this may not be the most sophisticated approach \n",
    "    ypoints = np.sin(xpoints*2*math.pi)\n",
    "    randpoints = noiselevel.value * (random.rand(N)-.5)\n",
    "    trendpoints = 0.4*xpoints + 0.5\n",
    "\n",
    "    sumpoints = draw_s.value*ypoints + draw_r.value*randpoints + draw_t.value*trendpoints\n",
    "    if draw_m.value:\n",
    "        smoothpoints = moving_avg(sumpoints,5)\n",
    "    else:\n",
    "        smoothpoints = []\n",
    "\n",
    "    # I don't really understand \"with\", but it seems to work. \n",
    "    # This time there are two traces (trace0 and trace1) in the graph, each with x and y values.\n",
    "    with g.batch_update():\n",
    "        g.data[0].x = xpoints\n",
    "        g.data[0].y = sumpoints\n",
    "        g.data[1].x = xpoints\n",
    "        g.data[1].y = smoothpoints\n",
    "\n",
    "# The next few calls I don't really understand. \n",
    "# Presumably I have to look up what the \"observe\" method is for \"widget\" objects. \n",
    "# It seems as if the \"observe\" method needs two parameters: 1) the function to call and 2) the \"names\" parameters. \n",
    "# `names=\"value\"` seems to be saying: \"pass these parameters with their values into the 'response' function\". \n",
    "# Or something like that.\n",
    "        \n",
    "ncycles.observe(response, names=\"value\")\n",
    "noiselevel.observe(response, names=\"value\")\n",
    "draw_s.observe(response, names=\"value\")\n",
    "draw_m.observe(response, names=\"value\")\n",
    "draw_r.observe(response, names=\"value\")\n",
    "draw_t.observe(response, names=\"value\")"
   ]
  },
  {
   "cell_type": "code",
   "execution_count": 7,
   "metadata": {
    "execution": {
     "iopub.execute_input": "2020-11-17T18:40:00.890139Z",
     "iopub.status.busy": "2020-11-17T18:40:00.888299Z",
     "iopub.status.idle": "2020-11-17T18:40:00.901763Z",
     "shell.execute_reply": "2020-11-17T18:40:00.901519Z"
    }
   },
   "outputs": [
    {
     "data": {
      "application/vnd.jupyter.widget-view+json": {
       "model_id": "4e68c0e1c7ac4020b7580677c1ddc82a",
       "version_major": 2,
       "version_minor": 0
      },
      "text/plain": [
       "VBox(children=(HBox(children=(VBox(children=(Checkbox(value=True, description='Sine wave'), Checkbox(value=Tru…"
      ]
     },
     "metadata": {},
     "output_type": "display_data"
    }
   ],
   "source": [
    "# Finish building the layout, this time an Hbox for two sliders and sliders next to checkboxes\n",
    "container2 = widgets.VBox([ncycles, noiselevel])\n",
    "container3 = widgets.HBox([container1, container2])\n",
    "\n",
    "# Finally, run the dashboard. \n",
    "widgets.VBox([container3, g])\n",
    "\n",
    "# NOTE I don't like how \"smoothed\" goes to zero when set to \"off\" but that can be \n",
    "# figured out in a subsequent version that uses panda dataframes to manage the various \n",
    "# traces instead of independent time series. "
   ]
  },
  {
   "cell_type": "markdown",
   "metadata": {},
   "source": [
    "### Questions students could consider\n",
    "These are examples of questions to drive teaching discussions or learning assignments. Questions are not necessarily well-posed. Also, most are judgement calls - which is part of the point!\n",
    "1. How much noise does it take to obscure the fact that the signal is a nice sinewave?\n",
    "2. \"Smoothing\" is a simple \"boxcar\", or 5-point moving average. How much MORE noise can be managed before the smoothed signal begins to loose its useful character?\n",
    "3. If there are only 2 or 3 cycles of signal, can you tell there is a trend? What are the implications for the \"length\" of your data set or series of measurements? \n",
    "4. Does noise obscure the fact that there is a superimposed linear trend? \n",
    "5. How much data (i.e. how long do you have to take measurments) before the trend is observed? \n",
    "6. Does this necessary length for measuring the phenomenon vary if there is more noise? \n",
    "7. Pose your own question AND answer it.  "
   ]
  },
  {
   "cell_type": "code",
   "execution_count": 8,
   "metadata": {
    "execution": {
     "iopub.execute_input": "2020-11-17T18:40:00.903586Z",
     "iopub.status.busy": "2020-11-17T18:40:00.903299Z",
     "iopub.status.idle": "2020-11-17T18:40:00.904697Z",
     "shell.execute_reply": "2020-11-17T18:40:00.904450Z"
    }
   },
   "outputs": [],
   "source": [
    "# Next steps are given here as comments instead of markdown so they don't appear in Voila.\n",
    "#   1. Change so that options are \"display data\" and \"display smoothed\" or both. i.e. toggle plots of trace0 and/or trace1. \n",
    "#   2. A more \"Pythonesque\" approach would use Pandas dataframes to contain the signal, noise, trend, result and the smoothed version of result, all in a dataframe who's index is x-axis. \n",
    "#\n",
    "# Sources for figuring out this implementation:\n",
    "#   Getting Plotly to work in Voila is outlined here: https://github.com/voila-dashboards/voila/issues/284\n",
    "#   Using plotly figurewidget was guided by https://plotly.com/python/figurewidget-app/\n",
    "#     However, that page does not re-calculate a time series - it uses widgets to fetch different data from a frame.\n",
    "#     In fact, that would probably be a better approach - signal, noise, trend, result and smoothed all in a dataframe who's index is x-axis.\n",
    "#   The \"Figure\" data structure is detailed in https://plotly.com/python/figure-structure/\n",
    "#   Layout details are at https://plotly.com/python/reference/layout/, and other details via that page's left menu."
   ]
  },
  {
   "cell_type": "code",
   "execution_count": null,
   "metadata": {},
   "outputs": [],
   "source": []
  }
 ],
 "metadata": {
  "jupytext": {
   "formats": "ipynb,md"
  },
  "kernelspec": {
   "display_name": "Python 3",
   "language": "python",
   "name": "python3"
  },
  "language_info": {
   "codemirror_mode": {
    "name": "ipython",
    "version": 3
   },
   "file_extension": ".py",
   "mimetype": "text/x-python",
   "name": "python",
   "nbconvert_exporter": "python",
   "pygments_lexer": "ipython3",
   "version": "3.7.8"
  },
  "widgets": {
   "application/vnd.jupyter.widget-state+json": {
    "state": {
     "087c7cda73e645779e1b482d6c56a04a": {
      "model_module": "@jupyter-widgets/controls",
      "model_module_version": "1.5.0",
      "model_name": "CheckboxModel",
      "state": {
       "_dom_classes": [],
       "_model_module": "@jupyter-widgets/controls",
       "_model_module_version": "1.5.0",
       "_model_name": "CheckboxModel",
       "_view_count": null,
       "_view_module": "@jupyter-widgets/controls",
       "_view_module_version": "1.5.0",
       "_view_name": "CheckboxView",
       "description": "Random noise",
       "description_tooltip": null,
       "disabled": false,
       "indent": true,
       "layout": "IPY_MODEL_481875fc89ca42e9b4cb32bd6386aa6f",
       "style": "IPY_MODEL_a5df12bc175b4226990030c773cb14ce",
       "value": true
      }
     },
     "16617fc8b5c94214bba06f55522c3732": {
      "model_module": "@jupyter-widgets/base",
      "model_module_version": "1.2.0",
      "model_name": "LayoutModel",
      "state": {
       "_model_module": "@jupyter-widgets/base",
       "_model_module_version": "1.2.0",
       "_model_name": "LayoutModel",
       "_view_count": null,
       "_view_module": "@jupyter-widgets/base",
       "_view_module_version": "1.2.0",
       "_view_name": "LayoutView",
       "align_content": null,
       "align_items": null,
       "align_self": null,
       "border": null,
       "bottom": null,
       "display": null,
       "flex": null,
       "flex_flow": null,
       "grid_area": null,
       "grid_auto_columns": null,
       "grid_auto_flow": null,
       "grid_auto_rows": null,
       "grid_column": null,
       "grid_gap": null,
       "grid_row": null,
       "grid_template_areas": null,
       "grid_template_columns": null,
       "grid_template_rows": null,
       "height": null,
       "justify_content": null,
       "justify_items": null,
       "left": null,
       "margin": null,
       "max_height": null,
       "max_width": null,
       "min_height": null,
       "min_width": null,
       "object_fit": null,
       "object_position": null,
       "order": null,
       "overflow": null,
       "overflow_x": null,
       "overflow_y": null,
       "padding": null,
       "right": null,
       "top": null,
       "visibility": null,
       "width": null
      }
     },
     "17f689f00c0e4c6686fa3b2965ab440c": {
      "model_module": "@jupyter-widgets/controls",
      "model_module_version": "1.5.0",
      "model_name": "SliderStyleModel",
      "state": {
       "_model_module": "@jupyter-widgets/controls",
       "_model_module_version": "1.5.0",
       "_model_name": "SliderStyleModel",
       "_view_count": null,
       "_view_module": "@jupyter-widgets/base",
       "_view_module_version": "1.2.0",
       "_view_name": "StyleView",
       "description_width": "",
       "handle_color": null
      }
     },
     "1b30e5cac0374d55a0fc4b511ed6ac93": {
      "model_module": "@jupyter-widgets/base",
      "model_module_version": "1.2.0",
      "model_name": "LayoutModel",
      "state": {
       "_model_module": "@jupyter-widgets/base",
       "_model_module_version": "1.2.0",
       "_model_name": "LayoutModel",
       "_view_count": null,
       "_view_module": "@jupyter-widgets/base",
       "_view_module_version": "1.2.0",
       "_view_name": "LayoutView",
       "align_content": null,
       "align_items": null,
       "align_self": null,
       "border": null,
       "bottom": null,
       "display": null,
       "flex": null,
       "flex_flow": null,
       "grid_area": null,
       "grid_auto_columns": null,
       "grid_auto_flow": null,
       "grid_auto_rows": null,
       "grid_column": null,
       "grid_gap": null,
       "grid_row": null,
       "grid_template_areas": null,
       "grid_template_columns": null,
       "grid_template_rows": null,
       "height": null,
       "justify_content": null,
       "justify_items": null,
       "left": null,
       "margin": null,
       "max_height": null,
       "max_width": null,
       "min_height": null,
       "min_width": null,
       "object_fit": null,
       "object_position": null,
       "order": null,
       "overflow": null,
       "overflow_x": null,
       "overflow_y": null,
       "padding": null,
       "right": null,
       "top": null,
       "visibility": null,
       "width": null
      }
     },
     "1b74edd331d040d690468eacc10d35ed": {
      "model_module": "@jupyter-widgets/controls",
      "model_module_version": "1.5.0",
      "model_name": "DescriptionStyleModel",
      "state": {
       "_model_module": "@jupyter-widgets/controls",
       "_model_module_version": "1.5.0",
       "_model_name": "DescriptionStyleModel",
       "_view_count": null,
       "_view_module": "@jupyter-widgets/base",
       "_view_module_version": "1.2.0",
       "_view_name": "StyleView",
       "description_width": ""
      }
     },
     "1dab8569f5ef4983b4752977a992be64": {
      "model_module": "@jupyter-widgets/base",
      "model_module_version": "1.2.0",
      "model_name": "LayoutModel",
      "state": {
       "_model_module": "@jupyter-widgets/base",
       "_model_module_version": "1.2.0",
       "_model_name": "LayoutModel",
       "_view_count": null,
       "_view_module": "@jupyter-widgets/base",
       "_view_module_version": "1.2.0",
       "_view_name": "LayoutView",
       "align_content": null,
       "align_items": null,
       "align_self": null,
       "border": null,
       "bottom": null,
       "display": null,
       "flex": null,
       "flex_flow": null,
       "grid_area": null,
       "grid_auto_columns": null,
       "grid_auto_flow": null,
       "grid_auto_rows": null,
       "grid_column": null,
       "grid_gap": null,
       "grid_row": null,
       "grid_template_areas": null,
       "grid_template_columns": null,
       "grid_template_rows": null,
       "height": null,
       "justify_content": null,
       "justify_items": null,
       "left": null,
       "margin": null,
       "max_height": null,
       "max_width": null,
       "min_height": null,
       "min_width": null,
       "object_fit": null,
       "object_position": null,
       "order": null,
       "overflow": null,
       "overflow_x": null,
       "overflow_y": null,
       "padding": null,
       "right": null,
       "top": null,
       "visibility": null,
       "width": null
      }
     },
     "27f3f89d6f394c4b9ae4f63f7f967877": {
      "model_module": "@jupyter-widgets/base",
      "model_module_version": "1.2.0",
      "model_name": "LayoutModel",
      "state": {
       "_model_module": "@jupyter-widgets/base",
       "_model_module_version": "1.2.0",
       "_model_name": "LayoutModel",
       "_view_count": null,
       "_view_module": "@jupyter-widgets/base",
       "_view_module_version": "1.2.0",
       "_view_name": "LayoutView",
       "align_content": null,
       "align_items": null,
       "align_self": null,
       "border": null,
       "bottom": null,
       "display": null,
       "flex": null,
       "flex_flow": null,
       "grid_area": null,
       "grid_auto_columns": null,
       "grid_auto_flow": null,
       "grid_auto_rows": null,
       "grid_column": null,
       "grid_gap": null,
       "grid_row": null,
       "grid_template_areas": null,
       "grid_template_columns": null,
       "grid_template_rows": null,
       "height": null,
       "justify_content": null,
       "justify_items": null,
       "left": null,
       "margin": null,
       "max_height": null,
       "max_width": null,
       "min_height": null,
       "min_width": null,
       "object_fit": null,
       "object_position": null,
       "order": null,
       "overflow": null,
       "overflow_x": null,
       "overflow_y": null,
       "padding": null,
       "right": null,
       "top": null,
       "visibility": null,
       "width": null
      }
     },
     "2f97405f881f45c7a774c1e72fea7f43": {
      "model_module": "@jupyter-widgets/controls",
      "model_module_version": "1.5.0",
      "model_name": "HBoxModel",
      "state": {
       "_dom_classes": [],
       "_model_module": "@jupyter-widgets/controls",
       "_model_module_version": "1.5.0",
       "_model_name": "HBoxModel",
       "_view_count": null,
       "_view_module": "@jupyter-widgets/controls",
       "_view_module_version": "1.5.0",
       "_view_name": "HBoxView",
       "box_style": "",
       "children": [
        "IPY_MODEL_82357dbc494841ecaf86b106542fc0c1",
        "IPY_MODEL_46dee16e7c2a4eba9bc7ec430067469f"
       ],
       "layout": "IPY_MODEL_9f5db6ab38774570b6c085cc86018397"
      }
     },
     "3091ccc9c9464f90bb03a5d15effdcb0": {
      "model_module": "@jupyter-widgets/controls",
      "model_module_version": "1.5.0",
      "model_name": "FloatSliderModel",
      "state": {
       "_dom_classes": [],
       "_model_module": "@jupyter-widgets/controls",
       "_model_module_version": "1.5.0",
       "_model_name": "FloatSliderModel",
       "_view_count": null,
       "_view_module": "@jupyter-widgets/controls",
       "_view_module_version": "1.5.0",
       "_view_name": "FloatSliderView",
       "continuous_update": true,
       "description": "Num. cycles",
       "description_tooltip": null,
       "disabled": false,
       "layout": "IPY_MODEL_a1297027c16646da8a958c473ec948b4",
       "max": 10.0,
       "min": 1.0,
       "orientation": "horizontal",
       "readout": true,
       "readout_format": ".2f",
       "step": 0.25,
       "style": "IPY_MODEL_17f689f00c0e4c6686fa3b2965ab440c",
       "value": 2.0
      }
     },
     "3a31f931d9454403bfa715ff28ae694b": {
      "model_module": "@jupyter-widgets/controls",
      "model_module_version": "1.5.0",
      "model_name": "CheckboxModel",
      "state": {
       "_dom_classes": [],
       "_model_module": "@jupyter-widgets/controls",
       "_model_module_version": "1.5.0",
       "_model_name": "CheckboxModel",
       "_view_count": null,
       "_view_module": "@jupyter-widgets/controls",
       "_view_module_version": "1.5.0",
       "_view_name": "CheckboxView",
       "description": "Sine wave",
       "description_tooltip": null,
       "disabled": false,
       "indent": true,
       "layout": "IPY_MODEL_1dab8569f5ef4983b4752977a992be64",
       "style": "IPY_MODEL_fc38e4ecb82d40cda30141f1263978b4",
       "value": true
      }
     },
     "46dee16e7c2a4eba9bc7ec430067469f": {
      "model_module": "@jupyter-widgets/controls",
      "model_module_version": "1.5.0",
      "model_name": "VBoxModel",
      "state": {
       "_dom_classes": [],
       "_model_module": "@jupyter-widgets/controls",
       "_model_module_version": "1.5.0",
       "_model_name": "VBoxModel",
       "_view_count": null,
       "_view_module": "@jupyter-widgets/controls",
       "_view_module_version": "1.5.0",
       "_view_name": "VBoxView",
       "box_style": "",
       "children": [
        "IPY_MODEL_3091ccc9c9464f90bb03a5d15effdcb0",
        "IPY_MODEL_bca1e099c758426f88f93c3f3cfa9b5b"
       ],
       "layout": "IPY_MODEL_82dafeb00f34497281aa31645931f401"
      }
     },
     "481875fc89ca42e9b4cb32bd6386aa6f": {
      "model_module": "@jupyter-widgets/base",
      "model_module_version": "1.2.0",
      "model_name": "LayoutModel",
      "state": {
       "_model_module": "@jupyter-widgets/base",
       "_model_module_version": "1.2.0",
       "_model_name": "LayoutModel",
       "_view_count": null,
       "_view_module": "@jupyter-widgets/base",
       "_view_module_version": "1.2.0",
       "_view_name": "LayoutView",
       "align_content": null,
       "align_items": null,
       "align_self": null,
       "border": null,
       "bottom": null,
       "display": null,
       "flex": null,
       "flex_flow": null,
       "grid_area": null,
       "grid_auto_columns": null,
       "grid_auto_flow": null,
       "grid_auto_rows": null,
       "grid_column": null,
       "grid_gap": null,
       "grid_row": null,
       "grid_template_areas": null,
       "grid_template_columns": null,
       "grid_template_rows": null,
       "height": null,
       "justify_content": null,
       "justify_items": null,
       "left": null,
       "margin": null,
       "max_height": null,
       "max_width": null,
       "min_height": null,
       "min_width": null,
       "object_fit": null,
       "object_position": null,
       "order": null,
       "overflow": null,
       "overflow_x": null,
       "overflow_y": null,
       "padding": null,
       "right": null,
       "top": null,
       "visibility": null,
       "width": null
      }
     },
     "4e68c0e1c7ac4020b7580677c1ddc82a": {
      "model_module": "@jupyter-widgets/controls",
      "model_module_version": "1.5.0",
      "model_name": "VBoxModel",
      "state": {
       "_dom_classes": [],
       "_model_module": "@jupyter-widgets/controls",
       "_model_module_version": "1.5.0",
       "_model_name": "VBoxModel",
       "_view_count": null,
       "_view_module": "@jupyter-widgets/controls",
       "_view_module_version": "1.5.0",
       "_view_name": "VBoxView",
       "box_style": "",
       "children": [
        "IPY_MODEL_2f97405f881f45c7a774c1e72fea7f43",
        "IPY_MODEL_fa24d483a4bb4ff39affdf6a34461813"
       ],
       "layout": "IPY_MODEL_55f640e3ccf64aaaaf94f0687a9c657a"
      }
     },
     "55f640e3ccf64aaaaf94f0687a9c657a": {
      "model_module": "@jupyter-widgets/base",
      "model_module_version": "1.2.0",
      "model_name": "LayoutModel",
      "state": {
       "_model_module": "@jupyter-widgets/base",
       "_model_module_version": "1.2.0",
       "_model_name": "LayoutModel",
       "_view_count": null,
       "_view_module": "@jupyter-widgets/base",
       "_view_module_version": "1.2.0",
       "_view_name": "LayoutView",
       "align_content": null,
       "align_items": null,
       "align_self": null,
       "border": null,
       "bottom": null,
       "display": null,
       "flex": null,
       "flex_flow": null,
       "grid_area": null,
       "grid_auto_columns": null,
       "grid_auto_flow": null,
       "grid_auto_rows": null,
       "grid_column": null,
       "grid_gap": null,
       "grid_row": null,
       "grid_template_areas": null,
       "grid_template_columns": null,
       "grid_template_rows": null,
       "height": null,
       "justify_content": null,
       "justify_items": null,
       "left": null,
       "margin": null,
       "max_height": null,
       "max_width": null,
       "min_height": null,
       "min_width": null,
       "object_fit": null,
       "object_position": null,
       "order": null,
       "overflow": null,
       "overflow_x": null,
       "overflow_y": null,
       "padding": null,
       "right": null,
       "top": null,
       "visibility": null,
       "width": null
      }
     },
     "5786839e24de48c7a5884fde2e19b1a4": {
      "model_module": "@jupyter-widgets/controls",
      "model_module_version": "1.5.0",
      "model_name": "CheckboxModel",
      "state": {
       "_dom_classes": [],
       "_model_module": "@jupyter-widgets/controls",
       "_model_module_version": "1.5.0",
       "_model_name": "CheckboxModel",
       "_view_count": null,
       "_view_module": "@jupyter-widgets/controls",
       "_view_module_version": "1.5.0",
       "_view_name": "CheckboxView",
       "description": "Smoothed",
       "description_tooltip": null,
       "disabled": false,
       "indent": true,
       "layout": "IPY_MODEL_a0dc503ac0844bba91eada1e9f1d90ed",
       "style": "IPY_MODEL_1b74edd331d040d690468eacc10d35ed",
       "value": false
      }
     },
     "82357dbc494841ecaf86b106542fc0c1": {
      "model_module": "@jupyter-widgets/controls",
      "model_module_version": "1.5.0",
      "model_name": "VBoxModel",
      "state": {
       "_dom_classes": [],
       "_model_module": "@jupyter-widgets/controls",
       "_model_module_version": "1.5.0",
       "_model_name": "VBoxModel",
       "_view_count": null,
       "_view_module": "@jupyter-widgets/controls",
       "_view_module_version": "1.5.0",
       "_view_name": "VBoxView",
       "box_style": "",
       "children": [
        "IPY_MODEL_3a31f931d9454403bfa715ff28ae694b",
        "IPY_MODEL_087c7cda73e645779e1b482d6c56a04a",
        "IPY_MODEL_ad473adc30944676ac07641e992bee5a",
        "IPY_MODEL_5786839e24de48c7a5884fde2e19b1a4"
       ],
       "layout": "IPY_MODEL_1b30e5cac0374d55a0fc4b511ed6ac93"
      }
     },
     "82dafeb00f34497281aa31645931f401": {
      "model_module": "@jupyter-widgets/base",
      "model_module_version": "1.2.0",
      "model_name": "LayoutModel",
      "state": {
       "_model_module": "@jupyter-widgets/base",
       "_model_module_version": "1.2.0",
       "_model_name": "LayoutModel",
       "_view_count": null,
       "_view_module": "@jupyter-widgets/base",
       "_view_module_version": "1.2.0",
       "_view_name": "LayoutView",
       "align_content": null,
       "align_items": null,
       "align_self": null,
       "border": null,
       "bottom": null,
       "display": null,
       "flex": null,
       "flex_flow": null,
       "grid_area": null,
       "grid_auto_columns": null,
       "grid_auto_flow": null,
       "grid_auto_rows": null,
       "grid_column": null,
       "grid_gap": null,
       "grid_row": null,
       "grid_template_areas": null,
       "grid_template_columns": null,
       "grid_template_rows": null,
       "height": null,
       "justify_content": null,
       "justify_items": null,
       "left": null,
       "margin": null,
       "max_height": null,
       "max_width": null,
       "min_height": null,
       "min_width": null,
       "object_fit": null,
       "object_position": null,
       "order": null,
       "overflow": null,
       "overflow_x": null,
       "overflow_y": null,
       "padding": null,
       "right": null,
       "top": null,
       "visibility": null,
       "width": null
      }
     },
     "9f5db6ab38774570b6c085cc86018397": {
      "model_module": "@jupyter-widgets/base",
      "model_module_version": "1.2.0",
      "model_name": "LayoutModel",
      "state": {
       "_model_module": "@jupyter-widgets/base",
       "_model_module_version": "1.2.0",
       "_model_name": "LayoutModel",
       "_view_count": null,
       "_view_module": "@jupyter-widgets/base",
       "_view_module_version": "1.2.0",
       "_view_name": "LayoutView",
       "align_content": null,
       "align_items": null,
       "align_self": null,
       "border": null,
       "bottom": null,
       "display": null,
       "flex": null,
       "flex_flow": null,
       "grid_area": null,
       "grid_auto_columns": null,
       "grid_auto_flow": null,
       "grid_auto_rows": null,
       "grid_column": null,
       "grid_gap": null,
       "grid_row": null,
       "grid_template_areas": null,
       "grid_template_columns": null,
       "grid_template_rows": null,
       "height": null,
       "justify_content": null,
       "justify_items": null,
       "left": null,
       "margin": null,
       "max_height": null,
       "max_width": null,
       "min_height": null,
       "min_width": null,
       "object_fit": null,
       "object_position": null,
       "order": null,
       "overflow": null,
       "overflow_x": null,
       "overflow_y": null,
       "padding": null,
       "right": null,
       "top": null,
       "visibility": null,
       "width": null
      }
     },
     "a0dc503ac0844bba91eada1e9f1d90ed": {
      "model_module": "@jupyter-widgets/base",
      "model_module_version": "1.2.0",
      "model_name": "LayoutModel",
      "state": {
       "_model_module": "@jupyter-widgets/base",
       "_model_module_version": "1.2.0",
       "_model_name": "LayoutModel",
       "_view_count": null,
       "_view_module": "@jupyter-widgets/base",
       "_view_module_version": "1.2.0",
       "_view_name": "LayoutView",
       "align_content": null,
       "align_items": null,
       "align_self": null,
       "border": null,
       "bottom": null,
       "display": null,
       "flex": null,
       "flex_flow": null,
       "grid_area": null,
       "grid_auto_columns": null,
       "grid_auto_flow": null,
       "grid_auto_rows": null,
       "grid_column": null,
       "grid_gap": null,
       "grid_row": null,
       "grid_template_areas": null,
       "grid_template_columns": null,
       "grid_template_rows": null,
       "height": null,
       "justify_content": null,
       "justify_items": null,
       "left": null,
       "margin": null,
       "max_height": null,
       "max_width": null,
       "min_height": null,
       "min_width": null,
       "object_fit": null,
       "object_position": null,
       "order": null,
       "overflow": null,
       "overflow_x": null,
       "overflow_y": null,
       "padding": null,
       "right": null,
       "top": null,
       "visibility": null,
       "width": null
      }
     },
     "a1297027c16646da8a958c473ec948b4": {
      "model_module": "@jupyter-widgets/base",
      "model_module_version": "1.2.0",
      "model_name": "LayoutModel",
      "state": {
       "_model_module": "@jupyter-widgets/base",
       "_model_module_version": "1.2.0",
       "_model_name": "LayoutModel",
       "_view_count": null,
       "_view_module": "@jupyter-widgets/base",
       "_view_module_version": "1.2.0",
       "_view_name": "LayoutView",
       "align_content": null,
       "align_items": null,
       "align_self": null,
       "border": null,
       "bottom": null,
       "display": null,
       "flex": null,
       "flex_flow": null,
       "grid_area": null,
       "grid_auto_columns": null,
       "grid_auto_flow": null,
       "grid_auto_rows": null,
       "grid_column": null,
       "grid_gap": null,
       "grid_row": null,
       "grid_template_areas": null,
       "grid_template_columns": null,
       "grid_template_rows": null,
       "height": null,
       "justify_content": null,
       "justify_items": null,
       "left": null,
       "margin": null,
       "max_height": null,
       "max_width": null,
       "min_height": null,
       "min_width": null,
       "object_fit": null,
       "object_position": null,
       "order": null,
       "overflow": null,
       "overflow_x": null,
       "overflow_y": null,
       "padding": null,
       "right": null,
       "top": null,
       "visibility": null,
       "width": null
      }
     },
     "a5df12bc175b4226990030c773cb14ce": {
      "model_module": "@jupyter-widgets/controls",
      "model_module_version": "1.5.0",
      "model_name": "DescriptionStyleModel",
      "state": {
       "_model_module": "@jupyter-widgets/controls",
       "_model_module_version": "1.5.0",
       "_model_name": "DescriptionStyleModel",
       "_view_count": null,
       "_view_module": "@jupyter-widgets/base",
       "_view_module_version": "1.2.0",
       "_view_name": "StyleView",
       "description_width": ""
      }
     },
     "ad473adc30944676ac07641e992bee5a": {
      "model_module": "@jupyter-widgets/controls",
      "model_module_version": "1.5.0",
      "model_name": "CheckboxModel",
      "state": {
       "_dom_classes": [],
       "_model_module": "@jupyter-widgets/controls",
       "_model_module_version": "1.5.0",
       "_model_name": "CheckboxModel",
       "_view_count": null,
       "_view_module": "@jupyter-widgets/controls",
       "_view_module_version": "1.5.0",
       "_view_name": "CheckboxView",
       "description": "Trend line",
       "description_tooltip": null,
       "disabled": false,
       "indent": true,
       "layout": "IPY_MODEL_27f3f89d6f394c4b9ae4f63f7f967877",
       "style": "IPY_MODEL_dbbd8e1f8daa49d6908a52aae615aec2",
       "value": true
      }
     },
     "bca1e099c758426f88f93c3f3cfa9b5b": {
      "model_module": "@jupyter-widgets/controls",
      "model_module_version": "1.5.0",
      "model_name": "FloatSliderModel",
      "state": {
       "_dom_classes": [],
       "_model_module": "@jupyter-widgets/controls",
       "_model_module_version": "1.5.0",
       "_model_name": "FloatSliderModel",
       "_view_count": null,
       "_view_module": "@jupyter-widgets/controls",
       "_view_module_version": "1.5.0",
       "_view_name": "FloatSliderView",
       "continuous_update": true,
       "description": "Noise",
       "description_tooltip": null,
       "disabled": false,
       "layout": "IPY_MODEL_16617fc8b5c94214bba06f55522c3732",
       "max": 5.0,
       "min": 0.0,
       "orientation": "horizontal",
       "readout": true,
       "readout_format": ".2f",
       "step": 0.25,
       "style": "IPY_MODEL_ee36b42112bf46aeafde4e2ec6121238",
       "value": 1.0
      }
     },
     "dbbd8e1f8daa49d6908a52aae615aec2": {
      "model_module": "@jupyter-widgets/controls",
      "model_module_version": "1.5.0",
      "model_name": "DescriptionStyleModel",
      "state": {
       "_model_module": "@jupyter-widgets/controls",
       "_model_module_version": "1.5.0",
       "_model_name": "DescriptionStyleModel",
       "_view_count": null,
       "_view_module": "@jupyter-widgets/base",
       "_view_module_version": "1.2.0",
       "_view_name": "StyleView",
       "description_width": ""
      }
     },
     "ee36b42112bf46aeafde4e2ec6121238": {
      "model_module": "@jupyter-widgets/controls",
      "model_module_version": "1.5.0",
      "model_name": "SliderStyleModel",
      "state": {
       "_model_module": "@jupyter-widgets/controls",
       "_model_module_version": "1.5.0",
       "_model_name": "SliderStyleModel",
       "_view_count": null,
       "_view_module": "@jupyter-widgets/base",
       "_view_module_version": "1.2.0",
       "_view_name": "StyleView",
       "description_width": "",
       "handle_color": null
      }
     },
     "fa24d483a4bb4ff39affdf6a34461813": {
      "buffers": [
       {
        "data": "AAAAAAAAAACamZmZmZmpP5qZmZmZmbk/NDMzMzMzwz+amZmZmZnJPwAAAAAAANA/NDMzMzMz0z9nZmZmZmbWP5qZmZmZmdk/zczMzMzM3D8AAAAAAADgP5qZmZmZmeE/NDMzMzMz4z/NzMzMzMzkP2dmZmZmZuY/AAAAAAAA6D+amZmZmZnpPzQzMzMzM+s/zczMzMzM7D9nZmZmZmbuPwAAAAAAAPA/zczMzMzM8D+amZmZmZnxP2dmZmZmZvI/NDMzMzMz8z8AAAAAAAD0P83MzMzMzPQ/mpmZmZmZ9T9nZmZmZmb2PzQzMzMzM/c/AAAAAAAA+D/NzMzMzMz4P5qZmZmZmfk/Z2ZmZmZm+j80MzMzMzP7PwAAAAAAAPw/zczMzMzM/D+amZmZmZn9P2dmZmZmZv4/NDMzMzMz/z8=",
        "encoding": "base64",
        "path": [
         "_data",
         0,
         "x",
         "buffer"
        ]
       },
       {
        "data": "Vq+sz0mL2z8jYbG5lvLyP57K8QxJY+g/hy9wl1fc9T/5vg7p+lHxP6jrSju4iv8/AZDICN3A8j8Kp7R7x2P0P1ctgd9+Cfk/ZuiQYwgQ7z+0rTqoDDPyPyB+uvFYCLC/HHWI3cVww79sCQqx7c7Cv3QlCgtUidQ/XLmNcbh40b94Wjxgbzi5P8Bk7ZfmVLa/ABR342y0vb+4FJKXOZ3wPw9Exv+fZ+s/ep15SwvD+j+8BpnghqHzP/xicKsf/vU/8qe1G9TlAUDIg6u1wqX8P5AUpbg7RwFA14olpQM+AUDwGJS/nbAAQKSOVuwbw/A/you5wVeW9j8I4kL3U3jsP2C0scDD2cE/QKW9+cs1nT+AtJK64Quev5jMPqsC8tG/ADChRUbcRz8WuTmk1MLWP5j3Cvbxm/E/EIxGegdj3z8=",
        "encoding": "base64",
        "path": [
         "_data",
         0,
         "y",
         "buffer"
        ]
       },
       {
        "data": "AAAAAAAAAACamZmZmZmpP5qZmZmZmbk/NDMzMzMzwz+amZmZmZnJPwAAAAAAANA/NDMzMzMz0z9nZmZmZmbWP5qZmZmZmdk/zczMzMzM3D8AAAAAAADgP5qZmZmZmeE/NDMzMzMz4z/NzMzMzMzkP2dmZmZmZuY/AAAAAAAA6D+amZmZmZnpPzQzMzMzM+s/zczMzMzM7D9nZmZmZmbuPwAAAAAAAPA/zczMzMzM8D+amZmZmZnxP2dmZmZmZvI/NDMzMzMz8z8AAAAAAAD0P83MzMzMzPQ/mpmZmZmZ9T9nZmZmZmb2PzQzMzMzM/c/AAAAAAAA+D/NzMzMzMz4P5qZmZmZmfk/Z2ZmZmZm+j80MzMzMzP7PwAAAAAAAPw/zczMzMzM/D+amZmZmZn9P2dmZmZmZv4/NDMzMzMz/z8=",
        "encoding": "base64",
        "path": [
         "_data",
         1,
         "x",
         "buffer"
        ]
       }
      ],
      "model_module": "plotlywidget",
      "model_module_version": "^4.12.0",
      "model_name": "FigureModel",
      "state": {
       "_config": {
        "plotlyServerURL": "https://plot.ly"
       },
       "_data": [
        {
         "mode": "lines",
         "name": "signal",
         "type": "scatter",
         "uid": "4626d805-81d1-4275-8eb5-5e6452cbe3c3",
         "x": {
          "dtype": "float64",
          "shape": [
           40
          ]
         },
         "y": {
          "dtype": "float64",
          "shape": [
           40
          ]
         }
        },
        {
         "mode": "lines",
         "name": "smoothed",
         "type": "scatter",
         "uid": "6380b289-e31f-4839-b8ee-14f8cdb2394e",
         "x": {
          "dtype": "float64",
          "shape": [
           40
          ]
         },
         "y": []
        }
       ],
       "_dom_classes": [],
       "_js2py_layoutDelta": {},
       "_js2py_pointsCallback": {},
       "_js2py_relayout": {},
       "_js2py_restyle": {},
       "_js2py_traceDeltas": {},
       "_js2py_update": {},
       "_last_layout_edit_id": 6,
       "_last_trace_edit_id": 0,
       "_layout": {
        "title": {
         "text": "Sinewave+trend+noise & 5-point moving average"
        }
       },
       "_model_module": "plotlywidget",
       "_model_module_version": "^4.12.0",
       "_model_name": "FigureModel",
       "_py2js_addTraces": {},
       "_py2js_animate": {},
       "_py2js_deleteTraces": {},
       "_py2js_moveTraces": {},
       "_py2js_relayout": null,
       "_py2js_removeLayoutProps": {},
       "_py2js_removeTraceProps": {},
       "_py2js_restyle": {},
       "_py2js_update": {},
       "_view_count": 0,
       "_view_module": "plotlywidget",
       "_view_module_version": "^4.12.0",
       "_view_name": "FigureView"
      }
     },
     "fc38e4ecb82d40cda30141f1263978b4": {
      "model_module": "@jupyter-widgets/controls",
      "model_module_version": "1.5.0",
      "model_name": "DescriptionStyleModel",
      "state": {
       "_model_module": "@jupyter-widgets/controls",
       "_model_module_version": "1.5.0",
       "_model_name": "DescriptionStyleModel",
       "_view_count": null,
       "_view_module": "@jupyter-widgets/base",
       "_view_module_version": "1.2.0",
       "_view_name": "StyleView",
       "description_width": ""
      }
     }
    },
    "version_major": 2,
    "version_minor": 0
   }
  }
 },
 "nbformat": 4,
 "nbformat_minor": 4
}
