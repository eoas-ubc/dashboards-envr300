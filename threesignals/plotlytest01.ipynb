{
 "cells": [
  {
   "cell_type": "markdown",
   "metadata": {},
   "source": [
    "## To see if plotly can be used for plotting in dashboards."
   ]
  },
  {
   "cell_type": "markdown",
   "metadata": {},
   "source": [
    "Source for figuring this out is: \n",
    "* plotly plot at https://www.tutorialspoint.com/plotly/plotly_plotting_inline_with_jupyter_notebook.htm\n",
    "* random via https://www.w3schools.com/python/numpy_random.asp. Note that importing `random` from `numpy` seems necessary. \n",
    "* array length using Python length function from https://www.w3schools.com/python/ref_func_len.asp. \n",
    "\n",
    "**Note:** this works in Jupyter notebook but not in Voila. Apparently you have to use Plotly figure widgets. It's not good enough to just plot the figure. See https://github.com/voila-dashboards/voila/issues/284.\n",
    "\n",
    "The next step is to convert to figure widgets. See \"plotlytest02\". "
   ]
  },
  {
   "cell_type": "code",
   "execution_count": 1,
   "metadata": {
    "execution": {
     "iopub.execute_input": "2020-11-17T18:39:58.650492Z",
     "iopub.status.busy": "2020-11-17T18:39:58.650117Z",
     "iopub.status.idle": "2020-11-17T18:39:58.746046Z",
     "shell.execute_reply": "2020-11-17T18:39:58.746471Z"
    }
   },
   "outputs": [
    {
     "data": {
      "text/html": [
       "        <script type=\"text/javascript\">\n",
       "        window.PlotlyConfig = {MathJaxConfig: 'local'};\n",
       "        if (window.MathJax) {MathJax.Hub.Config({SVG: {font: \"STIX-Web\"}});}\n",
       "        if (typeof require !== 'undefined') {\n",
       "        require.undef(\"plotly\");\n",
       "        requirejs.config({\n",
       "            paths: {\n",
       "                'plotly': ['https://cdn.plot.ly/plotly-latest.min']\n",
       "            }\n",
       "        });\n",
       "        require(['plotly'], function(Plotly) {\n",
       "            window._Plotly = Plotly;\n",
       "        });\n",
       "        }\n",
       "        </script>\n",
       "        "
      ]
     },
     "metadata": {},
     "output_type": "display_data"
    }
   ],
   "source": [
    "import plotly\n",
    "import plotly.graph_objs as go\n",
    "from plotly.offline import init_notebook_mode\n",
    "init_notebook_mode(connected = True)\n",
    "import numpy as np\n",
    "from numpy import random\n",
    "import math #needed for definition of pi\n",
    "import ipywidgets as widgets"
   ]
  },
  {
   "cell_type": "code",
   "execution_count": 2,
   "metadata": {
    "execution": {
     "iopub.execute_input": "2020-11-17T18:39:58.748222Z",
     "iopub.status.busy": "2020-11-17T18:39:58.747815Z",
     "iopub.status.idle": "2020-11-17T18:39:58.752484Z",
     "shell.execute_reply": "2020-11-17T18:39:58.752873Z"
    }
   },
   "outputs": [],
   "source": [
    "# Work is done in a function which `widgets.interactive` will call to make it interactive.\n",
    "# Parameters for this function are set by `widgets.interactive` (next cell).\n",
    "\n",
    "def plot_signal(ncycles=1.0, draw_s=True, draw_r=True, draw_t=True):\n",
    "    xpoints = np.arange(0, math.pi*ncycles*2, 0.05)\n",
    "    N=len(xpoints)         #this may not be the most sophisticated approach \n",
    "    ypoints = np.sin(xpoints)\n",
    "    randpoints = random.rand(N)\n",
    "    trendpoints = 0.2*xpoints + 0.5\n",
    "\n",
    "    sumpoints = draw_s*ypoints + draw_r*randpoints + draw_t*trendpoints\n",
    "\n",
    "    trace0 = go.Scatter(\n",
    "       x = xpoints, y = sumpoints\n",
    "    )\n",
    "    data = [trace0]\n",
    "    plotly.offline.iplot({ \"data\": data,\"layout\": go.Layout(title=\"Noisy sine wave with linear trend\")})\n",
    "    return()\n",
    "                \n",
    "# plot_signal(3.0)"
   ]
  },
  {
   "cell_type": "code",
   "execution_count": 3,
   "metadata": {
    "execution": {
     "iopub.execute_input": "2020-11-17T18:39:58.754483Z",
     "iopub.status.busy": "2020-11-17T18:39:58.754077Z",
     "iopub.status.idle": "2020-11-17T18:39:58.892412Z",
     "shell.execute_reply": "2020-11-17T18:39:58.892689Z"
    }
   },
   "outputs": [
    {
     "data": {
      "application/vnd.jupyter.widget-view+json": {
       "model_id": "79f3bdb3aa3546f598506a7b47ccc086",
       "version_major": 2,
       "version_minor": 0
      },
      "text/plain": [
       "interactive(children=(FloatSlider(value=2.0, description='Num. cycles', max=10.0, min=1.0), Checkbox(value=Tru…"
      ]
     },
     "metadata": {},
     "output_type": "display_data"
    }
   ],
   "source": [
    "# widgets.interactive's first parameter is the function to call (defined above, \"plot_signal\" in this case), \n",
    "# then remaining parameters are the parameters for that function.\n",
    "# All parameters are widgets in this case, but if preferred, any parameter could be fixed. \n",
    "\n",
    "noisy_sine = widgets.interactive(\n",
    "    plot_signal,\n",
    "    ncycles = widgets.FloatSlider(\n",
    "        min=1, max=10, step=0.1, value=2, description='Num. cycles'\n",
    "    ),\n",
    "    draw_s = widgets.Checkbox(\n",
    "        value=True,\n",
    "        description='Sine wave',\n",
    "        disabled=False,\n",
    "        indent=True\n",
    "    ),\n",
    "    draw_r = widgets.Checkbox(\n",
    "        value=True,\n",
    "        description='Random noise',\n",
    "        disabled=False,\n",
    "        indent=True\n",
    "    ),\n",
    "    draw_t = widgets.Checkbox(\n",
    "        value=True,\n",
    "        description='Trend line',\n",
    "        disabled=False,\n",
    "        indent=True\n",
    "    )\n",
    ")\n",
    "noisy_sine"
   ]
  },
  {
   "cell_type": "markdown",
   "metadata": {},
   "source": [
    "**Note**: this works in Jupyter notebook but not in Voila. Apparently you have to use Plotly figure widgets. It's not good enough to just plot the figure. See https://github.com/voila-dashboards/voila/issues/284.\n",
    "\n",
    "The next step is to convert to figure widgets. See \"plotlytest02\". "
   ]
  }
 ],
 "metadata": {
  "jupytext": {
   "formats": "ipynb,md"
  },
  "kernelspec": {
   "display_name": "Python 3",
   "language": "python",
   "name": "python3"
  },
  "language_info": {
   "codemirror_mode": {
    "name": "ipython",
    "version": 3
   },
   "file_extension": ".py",
   "mimetype": "text/x-python",
   "name": "python",
   "nbconvert_exporter": "python",
   "pygments_lexer": "ipython3",
   "version": "3.7.8"
  },
  "widgets": {
   "application/vnd.jupyter.widget-state+json": {
    "state": {
     "09a6ebfa3dc247dda94eeb7f6dd7adbb": {
      "model_module": "@jupyter-widgets/controls",
      "model_module_version": "1.5.0",
      "model_name": "CheckboxModel",
      "state": {
       "_dom_classes": [],
       "_model_module": "@jupyter-widgets/controls",
       "_model_module_version": "1.5.0",
       "_model_name": "CheckboxModel",
       "_view_count": null,
       "_view_module": "@jupyter-widgets/controls",
       "_view_module_version": "1.5.0",
       "_view_name": "CheckboxView",
       "description": "Sine wave",
       "description_tooltip": null,
       "disabled": false,
       "indent": true,
       "layout": "IPY_MODEL_923c3f13413a441492a07a51284db2d8",
       "style": "IPY_MODEL_5268ffc0e3a540409f2af6143eb9a368",
       "value": true
      }
     },
     "1746f69f90c4439885433b0a296cb30e": {
      "model_module": "@jupyter-widgets/output",
      "model_module_version": "1.0.0",
      "model_name": "OutputModel",
      "state": {
       "_dom_classes": [],
       "_model_module": "@jupyter-widgets/output",
       "_model_module_version": "1.0.0",
       "_model_name": "OutputModel",
       "_view_count": null,
       "_view_module": "@jupyter-widgets/output",
       "_view_module_version": "1.0.0",
       "_view_name": "OutputView",
       "layout": "IPY_MODEL_9d825606c81c48a0b543b1813cd4996b",
       "msg_id": "",
       "outputs": [
        {
         "data": {
          "application/vnd.plotly.v1+json": {
           "config": {
            "linkText": "Export to plot.ly",
            "plotlyServerURL": "https://plot.ly",
            "showLink": false
           },
           "data": [
            {
             "type": "scatter",
             "x": [
              0.0,
              0.05,
              0.1,
              0.15000000000000002,
              0.2,
              0.25,
              0.30000000000000004,
              0.35000000000000003,
              0.4,
              0.45,
              0.5,
              0.55,
              0.6000000000000001,
              0.65,
              0.7000000000000001,
              0.75,
              0.8,
              0.8500000000000001,
              0.9,
              0.9500000000000001,
              1.0,
              1.05,
              1.1,
              1.1500000000000001,
              1.2000000000000002,
              1.25,
              1.3,
              1.35,
              1.4000000000000001,
              1.4500000000000002,
              1.5,
              1.55,
              1.6,
              1.6500000000000001,
              1.7000000000000002,
              1.75,
              1.8,
              1.85,
              1.9000000000000001,
              1.9500000000000002,
              2.0,
              2.0500000000000003,
              2.1,
              2.15,
              2.2,
              2.25,
              2.3000000000000003,
              2.35,
              2.4000000000000004,
              2.45,
              2.5,
              2.5500000000000003,
              2.6,
              2.6500000000000004,
              2.7,
              2.75,
              2.8000000000000003,
              2.85,
              2.9000000000000004,
              2.95,
              3.0,
              3.0500000000000003,
              3.1,
              3.1500000000000004,
              3.2,
              3.25,
              3.3000000000000003,
              3.35,
              3.4000000000000004,
              3.45,
              3.5,
              3.5500000000000003,
              3.6,
              3.6500000000000004,
              3.7,
              3.75,
              3.8000000000000003,
              3.85,
              3.9000000000000004,
              3.95,
              4.0,
              4.05,
              4.1000000000000005,
              4.15,
              4.2,
              4.25,
              4.3,
              4.3500000000000005,
              4.4,
              4.45,
              4.5,
              4.55,
              4.6000000000000005,
              4.65,
              4.7,
              4.75,
              4.800000000000001,
              4.8500000000000005,
              4.9,
              4.95,
              5.0,
              5.050000000000001,
              5.1000000000000005,
              5.15,
              5.2,
              5.25,
              5.300000000000001,
              5.3500000000000005,
              5.4,
              5.45,
              5.5,
              5.550000000000001,
              5.6000000000000005,
              5.65,
              5.7,
              5.75,
              5.800000000000001,
              5.8500000000000005,
              5.9,
              5.95,
              6.0,
              6.050000000000001,
              6.1000000000000005,
              6.15,
              6.2,
              6.25,
              6.300000000000001,
              6.3500000000000005,
              6.4,
              6.45,
              6.5,
              6.550000000000001,
              6.6000000000000005,
              6.65,
              6.7,
              6.75,
              6.800000000000001,
              6.8500000000000005,
              6.9,
              6.95,
              7.0,
              7.050000000000001,
              7.1000000000000005,
              7.15,
              7.2,
              7.25,
              7.300000000000001,
              7.3500000000000005,
              7.4,
              7.45,
              7.5,
              7.550000000000001,
              7.6000000000000005,
              7.65,
              7.7,
              7.75,
              7.800000000000001,
              7.8500000000000005,
              7.9,
              7.95,
              8.0,
              8.05,
              8.1,
              8.15,
              8.200000000000001,
              8.25,
              8.3,
              8.35,
              8.4,
              8.450000000000001,
              8.5,
              8.55,
              8.6,
              8.65,
              8.700000000000001,
              8.75,
              8.8,
              8.85,
              8.9,
              8.950000000000001,
              9.0,
              9.05,
              9.1,
              9.15,
              9.200000000000001,
              9.25,
              9.3,
              9.35,
              9.4,
              9.450000000000001,
              9.5,
              9.55,
              9.600000000000001,
              9.65,
              9.700000000000001,
              9.75,
              9.8,
              9.850000000000001,
              9.9,
              9.950000000000001,
              10.0,
              10.05,
              10.100000000000001,
              10.15,
              10.200000000000001,
              10.25,
              10.3,
              10.350000000000001,
              10.4,
              10.450000000000001,
              10.5,
              10.55,
              10.600000000000001,
              10.65,
              10.700000000000001,
              10.75,
              10.8,
              10.850000000000001,
              10.9,
              10.950000000000001,
              11.0,
              11.05,
              11.100000000000001,
              11.15,
              11.200000000000001,
              11.25,
              11.3,
              11.350000000000001,
              11.4,
              11.450000000000001,
              11.5,
              11.55,
              11.600000000000001,
              11.65,
              11.700000000000001,
              11.75,
              11.8,
              11.850000000000001,
              11.9,
              11.950000000000001,
              12.0,
              12.05,
              12.100000000000001,
              12.15,
              12.200000000000001,
              12.25,
              12.3,
              12.350000000000001,
              12.4,
              12.450000000000001,
              12.5,
              12.55
             ],
             "y": [
              0.7432357511658622,
              0.6338597212918232,
              0.7600971374205587,
              1.0863660364354935,
              1.5271680674786148,
              0.9128458050446588,
              1.65000803547852,
              1.8590812642076626,
              1.188735634735791,
              1.0713215120194366,
              1.7963538848254128,
              1.8962625711139545,
              1.2077077633001125,
              1.598526545964428,
              2.0402606027065735,
              1.9625525377784188,
              1.9282600387122395,
              1.4595942048281532,
              2.330101619417122,
              2.448261393494553,
              2.1292780628743753,
              1.735414680116741,
              2.3150563855989628,
              1.8274304879964205,
              2.1248057158463727,
              2.5150460222919326,
              2.532851040500187,
              2.0741787735596553,
              2.0003080109018834,
              2.5702382229772898,
              2.4334613388193427,
              2.7055243457227345,
              2.7680115550798305,
              1.8626643878333973,
              2.74103757010345,
              2.034954034898039,
              2.0693667755364595,
              2.484815850611937,
              2.1450084660163062,
              2.102002212145805,
              2.00419299039212,
              1.9085405598542038,
              2.057052255857978,
              2.67771132028141,
              2.4233903950528872,
              2.394560845222002,
              1.9283714248890038,
              1.6973788217191699,
              2.560120183562596,
              2.2165487162710376,
              1.7313858145227736,
              2.042400398264627,
              1.7933206444931842,
              2.501006925075334,
              2.1120072145444855,
              1.9976897431002751,
              2.0004261185427796,
              1.8134660142714751,
              1.5068955766189178,
              1.679220980832592,
              2.164710886648603,
              1.9758259499171456,
              1.7261780250919019,
              1.5969954813767315,
              2.0019165104539907,
              1.911591825509277,
              1.6402805490280028,
              1.1981726918839455,
              1.4186779614538039,
              1.7034363394718663,
              1.378216312137097,
              1.5563403200461015,
              1.0642970221803323,
              1.498937832906876,
              1.1496864980879644,
              1.607162129254792,
              1.165268213277526,
              1.4225580504625501,
              1.3562691452399838,
              0.7592710145990044,
              1.1921204330374997,
              1.1054609176600825,
              1.004950147086204,
              1.3335440825660982,
              0.8731734324750704,
              0.9422921096298273,
              0.598589425671177,
              0.9438391253613679,
              1.278969789792182,
              1.0699423021568335,
              0.8945167281555717,
              0.9336873250945944,
              0.4783495220971522,
              1.0204713772944092,
              0.4578025383019054,
              0.620178221119388,
              1.001231700162163,
              1.4242983664380797,
              1.3024611083962245,
              1.1296758200335024,
              1.48242287753359,
              1.0687936442676236,
              0.8420890337441765,
              1.4665152269951163,
              1.0973541349352378,
              1.0292007847149875,
              1.5154268026821573,
              1.7477802595516438,
              1.0468432565906487,
              1.4253838296034576,
              1.1936009864244777,
              1.6409475757623984,
              1.5262015111711094,
              1.6336284426374665,
              1.495681064968825,
              2.078925663445892,
              2.1241537437291247,
              1.5099187199968356,
              1.7225166432636898,
              2.2080889366073038,
              1.6009550785680298,
              2.3258493157468485,
              2.269675929753867,
              1.9294367492271596,
              1.8375194502135708,
              1.8175771383657817,
              2.566157550706443,
              2.7796499769077228,
              2.3706730143154964,
              2.6055231923240005,
              2.7808494834899786,
              2.594948774668069,
              2.25150900038823,
              2.8601543167159758,
              2.7655519417183134,
              2.3422954217626524,
              2.550540549509622,
              2.4703442058643437,
              2.9243734959441703,
              2.770078459216472,
              2.6734847827555335,
              3.2720008314839797,
              3.5464644289026026,
              3.6363041476509705,
              3.60879936729589,
              3.2354717439075356,
              2.8605339340917646,
              3.537206701424214,
              3.527946445833865,
              3.4737475853947286,
              2.9786025517544963,
              3.8189443490415456,
              3.6710067587027284,
              3.6416101289262217,
              3.2618897084285106,
              3.8648484289247573,
              3.3598046113903073,
              3.0768247365341685,
              3.392004973034612,
              3.3975008507573548,
              3.8529988720971384,
              3.600595862165921,
              3.6388070427688115,
              3.697898303300283,
              3.860709914495409,
              3.7047682945153064,
              3.626454070307096,
              3.2555639572992496,
              3.642727391435549,
              3.6460467920522346,
              3.5645874157193154,
              3.3803115280545546,
              3.7344460786003757,
              3.626767370952827,
              3.473502733268193,
              3.1064107219736035,
              3.3896922882789275,
              3.413665597441597,
              3.0822301979066715,
              3.1293502257931403,
              3.689790038050961,
              3.589693267189154,
              2.9991562824070224,
              3.392899648371168,
              3.441525637473219,
              3.022756571252666,
              3.023061919232929,
              2.4905127163987038,
              3.104907903668192,
              2.4180290632384334,
              3.064832775871048,
              3.1586439993507263,
              2.727167436403228,
              2.411247674126042,
              2.934833171402161,
              2.9441022330519533,
              2.3659514482664084,
              2.234993350504147,
              2.26330330865345,
              2.190978802195492,
              2.4272982988650007,
              2.1199439985534503,
              2.760388102200936,
              1.9285910048940524,
              1.9306082715211683,
              2.1386437380615586,
              1.8562607653262895,
              2.052545817613663,
              2.1038804786562157,
              1.9376458349434493,
              1.759034518051298,
              2.643042081305347,
              2.6706459353414407,
              2.5190997308667233,
              2.5219280506925865,
              2.0562977063579653,
              1.7903726582607826,
              2.270195910601415,
              2.408980923537357,
              2.003469235905659,
              1.902683684400606,
              2.433752959062594,
              2.0753126934727373,
              1.7866302950295894,
              1.9410189461562262,
              1.7968131605324373,
              1.8485042857911949,
              2.1631592998495512,
              2.3681019181053395,
              2.122845878319116,
              2.8512524564657644,
              2.3146355761931083,
              2.4837453990610645,
              2.0757876758990355,
              2.3145622948409024,
              3.029705886616741,
              3.073912236071308,
              3.0782209245930394,
              2.794360615366579,
              2.50680719037229,
              2.6486679512768125,
              2.675106122125742,
              2.491490279244142,
              3.5019702036315246,
              2.909516037189468,
              2.796194542554515,
              3.307960181365224,
              2.9743773566504235,
              3.1156818294097453,
              3.4911969458713417,
              3.7481138348713667,
              3.792765284334634
             ]
            }
           ],
           "layout": {
            "template": {
             "data": {
              "bar": [
               {
                "error_x": {
                 "color": "#2a3f5f"
                },
                "error_y": {
                 "color": "#2a3f5f"
                },
                "marker": {
                 "line": {
                  "color": "#E5ECF6",
                  "width": 0.5
                 }
                },
                "type": "bar"
               }
              ],
              "barpolar": [
               {
                "marker": {
                 "line": {
                  "color": "#E5ECF6",
                  "width": 0.5
                 }
                },
                "type": "barpolar"
               }
              ],
              "carpet": [
               {
                "aaxis": {
                 "endlinecolor": "#2a3f5f",
                 "gridcolor": "white",
                 "linecolor": "white",
                 "minorgridcolor": "white",
                 "startlinecolor": "#2a3f5f"
                },
                "baxis": {
                 "endlinecolor": "#2a3f5f",
                 "gridcolor": "white",
                 "linecolor": "white",
                 "minorgridcolor": "white",
                 "startlinecolor": "#2a3f5f"
                },
                "type": "carpet"
               }
              ],
              "choropleth": [
               {
                "colorbar": {
                 "outlinewidth": 0,
                 "ticks": ""
                },
                "type": "choropleth"
               }
              ],
              "contour": [
               {
                "colorbar": {
                 "outlinewidth": 0,
                 "ticks": ""
                },
                "colorscale": [
                 [
                  0.0,
                  "#0d0887"
                 ],
                 [
                  0.1111111111111111,
                  "#46039f"
                 ],
                 [
                  0.2222222222222222,
                  "#7201a8"
                 ],
                 [
                  0.3333333333333333,
                  "#9c179e"
                 ],
                 [
                  0.4444444444444444,
                  "#bd3786"
                 ],
                 [
                  0.5555555555555556,
                  "#d8576b"
                 ],
                 [
                  0.6666666666666666,
                  "#ed7953"
                 ],
                 [
                  0.7777777777777778,
                  "#fb9f3a"
                 ],
                 [
                  0.8888888888888888,
                  "#fdca26"
                 ],
                 [
                  1.0,
                  "#f0f921"
                 ]
                ],
                "type": "contour"
               }
              ],
              "contourcarpet": [
               {
                "colorbar": {
                 "outlinewidth": 0,
                 "ticks": ""
                },
                "type": "contourcarpet"
               }
              ],
              "heatmap": [
               {
                "colorbar": {
                 "outlinewidth": 0,
                 "ticks": ""
                },
                "colorscale": [
                 [
                  0.0,
                  "#0d0887"
                 ],
                 [
                  0.1111111111111111,
                  "#46039f"
                 ],
                 [
                  0.2222222222222222,
                  "#7201a8"
                 ],
                 [
                  0.3333333333333333,
                  "#9c179e"
                 ],
                 [
                  0.4444444444444444,
                  "#bd3786"
                 ],
                 [
                  0.5555555555555556,
                  "#d8576b"
                 ],
                 [
                  0.6666666666666666,
                  "#ed7953"
                 ],
                 [
                  0.7777777777777778,
                  "#fb9f3a"
                 ],
                 [
                  0.8888888888888888,
                  "#fdca26"
                 ],
                 [
                  1.0,
                  "#f0f921"
                 ]
                ],
                "type": "heatmap"
               }
              ],
              "heatmapgl": [
               {
                "colorbar": {
                 "outlinewidth": 0,
                 "ticks": ""
                },
                "colorscale": [
                 [
                  0.0,
                  "#0d0887"
                 ],
                 [
                  0.1111111111111111,
                  "#46039f"
                 ],
                 [
                  0.2222222222222222,
                  "#7201a8"
                 ],
                 [
                  0.3333333333333333,
                  "#9c179e"
                 ],
                 [
                  0.4444444444444444,
                  "#bd3786"
                 ],
                 [
                  0.5555555555555556,
                  "#d8576b"
                 ],
                 [
                  0.6666666666666666,
                  "#ed7953"
                 ],
                 [
                  0.7777777777777778,
                  "#fb9f3a"
                 ],
                 [
                  0.8888888888888888,
                  "#fdca26"
                 ],
                 [
                  1.0,
                  "#f0f921"
                 ]
                ],
                "type": "heatmapgl"
               }
              ],
              "histogram": [
               {
                "marker": {
                 "colorbar": {
                  "outlinewidth": 0,
                  "ticks": ""
                 }
                },
                "type": "histogram"
               }
              ],
              "histogram2d": [
               {
                "colorbar": {
                 "outlinewidth": 0,
                 "ticks": ""
                },
                "colorscale": [
                 [
                  0.0,
                  "#0d0887"
                 ],
                 [
                  0.1111111111111111,
                  "#46039f"
                 ],
                 [
                  0.2222222222222222,
                  "#7201a8"
                 ],
                 [
                  0.3333333333333333,
                  "#9c179e"
                 ],
                 [
                  0.4444444444444444,
                  "#bd3786"
                 ],
                 [
                  0.5555555555555556,
                  "#d8576b"
                 ],
                 [
                  0.6666666666666666,
                  "#ed7953"
                 ],
                 [
                  0.7777777777777778,
                  "#fb9f3a"
                 ],
                 [
                  0.8888888888888888,
                  "#fdca26"
                 ],
                 [
                  1.0,
                  "#f0f921"
                 ]
                ],
                "type": "histogram2d"
               }
              ],
              "histogram2dcontour": [
               {
                "colorbar": {
                 "outlinewidth": 0,
                 "ticks": ""
                },
                "colorscale": [
                 [
                  0.0,
                  "#0d0887"
                 ],
                 [
                  0.1111111111111111,
                  "#46039f"
                 ],
                 [
                  0.2222222222222222,
                  "#7201a8"
                 ],
                 [
                  0.3333333333333333,
                  "#9c179e"
                 ],
                 [
                  0.4444444444444444,
                  "#bd3786"
                 ],
                 [
                  0.5555555555555556,
                  "#d8576b"
                 ],
                 [
                  0.6666666666666666,
                  "#ed7953"
                 ],
                 [
                  0.7777777777777778,
                  "#fb9f3a"
                 ],
                 [
                  0.8888888888888888,
                  "#fdca26"
                 ],
                 [
                  1.0,
                  "#f0f921"
                 ]
                ],
                "type": "histogram2dcontour"
               }
              ],
              "mesh3d": [
               {
                "colorbar": {
                 "outlinewidth": 0,
                 "ticks": ""
                },
                "type": "mesh3d"
               }
              ],
              "parcoords": [
               {
                "line": {
                 "colorbar": {
                  "outlinewidth": 0,
                  "ticks": ""
                 }
                },
                "type": "parcoords"
               }
              ],
              "pie": [
               {
                "automargin": true,
                "type": "pie"
               }
              ],
              "scatter": [
               {
                "marker": {
                 "colorbar": {
                  "outlinewidth": 0,
                  "ticks": ""
                 }
                },
                "type": "scatter"
               }
              ],
              "scatter3d": [
               {
                "line": {
                 "colorbar": {
                  "outlinewidth": 0,
                  "ticks": ""
                 }
                },
                "marker": {
                 "colorbar": {
                  "outlinewidth": 0,
                  "ticks": ""
                 }
                },
                "type": "scatter3d"
               }
              ],
              "scattercarpet": [
               {
                "marker": {
                 "colorbar": {
                  "outlinewidth": 0,
                  "ticks": ""
                 }
                },
                "type": "scattercarpet"
               }
              ],
              "scattergeo": [
               {
                "marker": {
                 "colorbar": {
                  "outlinewidth": 0,
                  "ticks": ""
                 }
                },
                "type": "scattergeo"
               }
              ],
              "scattergl": [
               {
                "marker": {
                 "colorbar": {
                  "outlinewidth": 0,
                  "ticks": ""
                 }
                },
                "type": "scattergl"
               }
              ],
              "scattermapbox": [
               {
                "marker": {
                 "colorbar": {
                  "outlinewidth": 0,
                  "ticks": ""
                 }
                },
                "type": "scattermapbox"
               }
              ],
              "scatterpolar": [
               {
                "marker": {
                 "colorbar": {
                  "outlinewidth": 0,
                  "ticks": ""
                 }
                },
                "type": "scatterpolar"
               }
              ],
              "scatterpolargl": [
               {
                "marker": {
                 "colorbar": {
                  "outlinewidth": 0,
                  "ticks": ""
                 }
                },
                "type": "scatterpolargl"
               }
              ],
              "scatterternary": [
               {
                "marker": {
                 "colorbar": {
                  "outlinewidth": 0,
                  "ticks": ""
                 }
                },
                "type": "scatterternary"
               }
              ],
              "surface": [
               {
                "colorbar": {
                 "outlinewidth": 0,
                 "ticks": ""
                },
                "colorscale": [
                 [
                  0.0,
                  "#0d0887"
                 ],
                 [
                  0.1111111111111111,
                  "#46039f"
                 ],
                 [
                  0.2222222222222222,
                  "#7201a8"
                 ],
                 [
                  0.3333333333333333,
                  "#9c179e"
                 ],
                 [
                  0.4444444444444444,
                  "#bd3786"
                 ],
                 [
                  0.5555555555555556,
                  "#d8576b"
                 ],
                 [
                  0.6666666666666666,
                  "#ed7953"
                 ],
                 [
                  0.7777777777777778,
                  "#fb9f3a"
                 ],
                 [
                  0.8888888888888888,
                  "#fdca26"
                 ],
                 [
                  1.0,
                  "#f0f921"
                 ]
                ],
                "type": "surface"
               }
              ],
              "table": [
               {
                "cells": {
                 "fill": {
                  "color": "#EBF0F8"
                 },
                 "line": {
                  "color": "white"
                 }
                },
                "header": {
                 "fill": {
                  "color": "#C8D4E3"
                 },
                 "line": {
                  "color": "white"
                 }
                },
                "type": "table"
               }
              ]
             },
             "layout": {
              "annotationdefaults": {
               "arrowcolor": "#2a3f5f",
               "arrowhead": 0,
               "arrowwidth": 1
              },
              "coloraxis": {
               "colorbar": {
                "outlinewidth": 0,
                "ticks": ""
               }
              },
              "colorscale": {
               "diverging": [
                [
                 0,
                 "#8e0152"
                ],
                [
                 0.1,
                 "#c51b7d"
                ],
                [
                 0.2,
                 "#de77ae"
                ],
                [
                 0.3,
                 "#f1b6da"
                ],
                [
                 0.4,
                 "#fde0ef"
                ],
                [
                 0.5,
                 "#f7f7f7"
                ],
                [
                 0.6,
                 "#e6f5d0"
                ],
                [
                 0.7,
                 "#b8e186"
                ],
                [
                 0.8,
                 "#7fbc41"
                ],
                [
                 0.9,
                 "#4d9221"
                ],
                [
                 1,
                 "#276419"
                ]
               ],
               "sequential": [
                [
                 0.0,
                 "#0d0887"
                ],
                [
                 0.1111111111111111,
                 "#46039f"
                ],
                [
                 0.2222222222222222,
                 "#7201a8"
                ],
                [
                 0.3333333333333333,
                 "#9c179e"
                ],
                [
                 0.4444444444444444,
                 "#bd3786"
                ],
                [
                 0.5555555555555556,
                 "#d8576b"
                ],
                [
                 0.6666666666666666,
                 "#ed7953"
                ],
                [
                 0.7777777777777778,
                 "#fb9f3a"
                ],
                [
                 0.8888888888888888,
                 "#fdca26"
                ],
                [
                 1.0,
                 "#f0f921"
                ]
               ],
               "sequentialminus": [
                [
                 0.0,
                 "#0d0887"
                ],
                [
                 0.1111111111111111,
                 "#46039f"
                ],
                [
                 0.2222222222222222,
                 "#7201a8"
                ],
                [
                 0.3333333333333333,
                 "#9c179e"
                ],
                [
                 0.4444444444444444,
                 "#bd3786"
                ],
                [
                 0.5555555555555556,
                 "#d8576b"
                ],
                [
                 0.6666666666666666,
                 "#ed7953"
                ],
                [
                 0.7777777777777778,
                 "#fb9f3a"
                ],
                [
                 0.8888888888888888,
                 "#fdca26"
                ],
                [
                 1.0,
                 "#f0f921"
                ]
               ]
              },
              "colorway": [
               "#636efa",
               "#EF553B",
               "#00cc96",
               "#ab63fa",
               "#FFA15A",
               "#19d3f3",
               "#FF6692",
               "#B6E880",
               "#FF97FF",
               "#FECB52"
              ],
              "font": {
               "color": "#2a3f5f"
              },
              "geo": {
               "bgcolor": "white",
               "lakecolor": "white",
               "landcolor": "#E5ECF6",
               "showlakes": true,
               "showland": true,
               "subunitcolor": "white"
              },
              "hoverlabel": {
               "align": "left"
              },
              "hovermode": "closest",
              "mapbox": {
               "style": "light"
              },
              "paper_bgcolor": "white",
              "plot_bgcolor": "#E5ECF6",
              "polar": {
               "angularaxis": {
                "gridcolor": "white",
                "linecolor": "white",
                "ticks": ""
               },
               "bgcolor": "#E5ECF6",
               "radialaxis": {
                "gridcolor": "white",
                "linecolor": "white",
                "ticks": ""
               }
              },
              "scene": {
               "xaxis": {
                "backgroundcolor": "#E5ECF6",
                "gridcolor": "white",
                "gridwidth": 2,
                "linecolor": "white",
                "showbackground": true,
                "ticks": "",
                "zerolinecolor": "white"
               },
               "yaxis": {
                "backgroundcolor": "#E5ECF6",
                "gridcolor": "white",
                "gridwidth": 2,
                "linecolor": "white",
                "showbackground": true,
                "ticks": "",
                "zerolinecolor": "white"
               },
               "zaxis": {
                "backgroundcolor": "#E5ECF6",
                "gridcolor": "white",
                "gridwidth": 2,
                "linecolor": "white",
                "showbackground": true,
                "ticks": "",
                "zerolinecolor": "white"
               }
              },
              "shapedefaults": {
               "line": {
                "color": "#2a3f5f"
               }
              },
              "ternary": {
               "aaxis": {
                "gridcolor": "white",
                "linecolor": "white",
                "ticks": ""
               },
               "baxis": {
                "gridcolor": "white",
                "linecolor": "white",
                "ticks": ""
               },
               "bgcolor": "#E5ECF6",
               "caxis": {
                "gridcolor": "white",
                "linecolor": "white",
                "ticks": ""
               }
              },
              "title": {
               "x": 0.05
              },
              "xaxis": {
               "automargin": true,
               "gridcolor": "white",
               "linecolor": "white",
               "ticks": "",
               "title": {
                "standoff": 15
               },
               "zerolinecolor": "white",
               "zerolinewidth": 2
              },
              "yaxis": {
               "automargin": true,
               "gridcolor": "white",
               "linecolor": "white",
               "ticks": "",
               "title": {
                "standoff": 15
               },
               "zerolinecolor": "white",
               "zerolinewidth": 2
              }
             }
            },
            "title": {
             "text": "Noisy sine wave with linear trend"
            }
           }
          },
          "text/html": "<div>                            <div id=\"3dcf4134-22da-4f57-b59f-1cf9ba79b0ce\" class=\"plotly-graph-div\" style=\"height:525px; width:100%;\"></div>            <script type=\"text/javascript\">                require([\"plotly\"], function(Plotly) {                    window.PLOTLYENV=window.PLOTLYENV || {};                                    if (document.getElementById(\"3dcf4134-22da-4f57-b59f-1cf9ba79b0ce\")) {                    Plotly.newPlot(                        \"3dcf4134-22da-4f57-b59f-1cf9ba79b0ce\",                        [{\"type\": \"scatter\", \"x\": [0.0, 0.05, 0.1, 0.15000000000000002, 0.2, 0.25, 0.30000000000000004, 0.35000000000000003, 0.4, 0.45, 0.5, 0.55, 0.6000000000000001, 0.65, 0.7000000000000001, 0.75, 0.8, 0.8500000000000001, 0.9, 0.9500000000000001, 1.0, 1.05, 1.1, 1.1500000000000001, 1.2000000000000002, 1.25, 1.3, 1.35, 1.4000000000000001, 1.4500000000000002, 1.5, 1.55, 1.6, 1.6500000000000001, 1.7000000000000002, 1.75, 1.8, 1.85, 1.9000000000000001, 1.9500000000000002, 2.0, 2.0500000000000003, 2.1, 2.15, 2.2, 2.25, 2.3000000000000003, 2.35, 2.4000000000000004, 2.45, 2.5, 2.5500000000000003, 2.6, 2.6500000000000004, 2.7, 2.75, 2.8000000000000003, 2.85, 2.9000000000000004, 2.95, 3.0, 3.0500000000000003, 3.1, 3.1500000000000004, 3.2, 3.25, 3.3000000000000003, 3.35, 3.4000000000000004, 3.45, 3.5, 3.5500000000000003, 3.6, 3.6500000000000004, 3.7, 3.75, 3.8000000000000003, 3.85, 3.9000000000000004, 3.95, 4.0, 4.05, 4.1000000000000005, 4.15, 4.2, 4.25, 4.3, 4.3500000000000005, 4.4, 4.45, 4.5, 4.55, 4.6000000000000005, 4.65, 4.7, 4.75, 4.800000000000001, 4.8500000000000005, 4.9, 4.95, 5.0, 5.050000000000001, 5.1000000000000005, 5.15, 5.2, 5.25, 5.300000000000001, 5.3500000000000005, 5.4, 5.45, 5.5, 5.550000000000001, 5.6000000000000005, 5.65, 5.7, 5.75, 5.800000000000001, 5.8500000000000005, 5.9, 5.95, 6.0, 6.050000000000001, 6.1000000000000005, 6.15, 6.2, 6.25, 6.300000000000001, 6.3500000000000005, 6.4, 6.45, 6.5, 6.550000000000001, 6.6000000000000005, 6.65, 6.7, 6.75, 6.800000000000001, 6.8500000000000005, 6.9, 6.95, 7.0, 7.050000000000001, 7.1000000000000005, 7.15, 7.2, 7.25, 7.300000000000001, 7.3500000000000005, 7.4, 7.45, 7.5, 7.550000000000001, 7.6000000000000005, 7.65, 7.7, 7.75, 7.800000000000001, 7.8500000000000005, 7.9, 7.95, 8.0, 8.05, 8.1, 8.15, 8.200000000000001, 8.25, 8.3, 8.35, 8.4, 8.450000000000001, 8.5, 8.55, 8.6, 8.65, 8.700000000000001, 8.75, 8.8, 8.85, 8.9, 8.950000000000001, 9.0, 9.05, 9.1, 9.15, 9.200000000000001, 9.25, 9.3, 9.35, 9.4, 9.450000000000001, 9.5, 9.55, 9.600000000000001, 9.65, 9.700000000000001, 9.75, 9.8, 9.850000000000001, 9.9, 9.950000000000001, 10.0, 10.05, 10.100000000000001, 10.15, 10.200000000000001, 10.25, 10.3, 10.350000000000001, 10.4, 10.450000000000001, 10.5, 10.55, 10.600000000000001, 10.65, 10.700000000000001, 10.75, 10.8, 10.850000000000001, 10.9, 10.950000000000001, 11.0, 11.05, 11.100000000000001, 11.15, 11.200000000000001, 11.25, 11.3, 11.350000000000001, 11.4, 11.450000000000001, 11.5, 11.55, 11.600000000000001, 11.65, 11.700000000000001, 11.75, 11.8, 11.850000000000001, 11.9, 11.950000000000001, 12.0, 12.05, 12.100000000000001, 12.15, 12.200000000000001, 12.25, 12.3, 12.350000000000001, 12.4, 12.450000000000001, 12.5, 12.55], \"y\": [0.7432357511658622, 0.6338597212918232, 0.7600971374205587, 1.0863660364354935, 1.5271680674786148, 0.9128458050446588, 1.65000803547852, 1.8590812642076626, 1.188735634735791, 1.0713215120194366, 1.7963538848254128, 1.8962625711139545, 1.2077077633001125, 1.598526545964428, 2.0402606027065735, 1.9625525377784188, 1.9282600387122395, 1.4595942048281532, 2.330101619417122, 2.448261393494553, 2.1292780628743753, 1.735414680116741, 2.3150563855989628, 1.8274304879964205, 2.1248057158463727, 2.5150460222919326, 2.532851040500187, 2.0741787735596553, 2.0003080109018834, 2.5702382229772898, 2.4334613388193427, 2.7055243457227345, 2.7680115550798305, 1.8626643878333973, 2.74103757010345, 2.034954034898039, 2.0693667755364595, 2.484815850611937, 2.1450084660163062, 2.102002212145805, 2.00419299039212, 1.9085405598542038, 2.057052255857978, 2.67771132028141, 2.4233903950528872, 2.394560845222002, 1.9283714248890038, 1.6973788217191699, 2.560120183562596, 2.2165487162710376, 1.7313858145227736, 2.042400398264627, 1.7933206444931842, 2.501006925075334, 2.1120072145444855, 1.9976897431002751, 2.0004261185427796, 1.8134660142714751, 1.5068955766189178, 1.679220980832592, 2.164710886648603, 1.9758259499171456, 1.7261780250919019, 1.5969954813767315, 2.0019165104539907, 1.911591825509277, 1.6402805490280028, 1.1981726918839455, 1.4186779614538039, 1.7034363394718663, 1.378216312137097, 1.5563403200461015, 1.0642970221803323, 1.498937832906876, 1.1496864980879644, 1.607162129254792, 1.165268213277526, 1.4225580504625501, 1.3562691452399838, 0.7592710145990044, 1.1921204330374997, 1.1054609176600825, 1.004950147086204, 1.3335440825660982, 0.8731734324750704, 0.9422921096298273, 0.598589425671177, 0.9438391253613679, 1.278969789792182, 1.0699423021568335, 0.8945167281555717, 0.9336873250945944, 0.4783495220971522, 1.0204713772944092, 0.4578025383019054, 0.620178221119388, 1.001231700162163, 1.4242983664380797, 1.3024611083962245, 1.1296758200335024, 1.48242287753359, 1.0687936442676236, 0.8420890337441765, 1.4665152269951163, 1.0973541349352378, 1.0292007847149875, 1.5154268026821573, 1.7477802595516438, 1.0468432565906487, 1.4253838296034576, 1.1936009864244777, 1.6409475757623984, 1.5262015111711094, 1.6336284426374665, 1.495681064968825, 2.078925663445892, 2.1241537437291247, 1.5099187199968356, 1.7225166432636898, 2.2080889366073038, 1.6009550785680298, 2.3258493157468485, 2.269675929753867, 1.9294367492271596, 1.8375194502135708, 1.8175771383657817, 2.566157550706443, 2.7796499769077228, 2.3706730143154964, 2.6055231923240005, 2.7808494834899786, 2.594948774668069, 2.25150900038823, 2.8601543167159758, 2.7655519417183134, 2.3422954217626524, 2.550540549509622, 2.4703442058643437, 2.9243734959441703, 2.770078459216472, 2.6734847827555335, 3.2720008314839797, 3.5464644289026026, 3.6363041476509705, 3.60879936729589, 3.2354717439075356, 2.8605339340917646, 3.537206701424214, 3.527946445833865, 3.4737475853947286, 2.9786025517544963, 3.8189443490415456, 3.6710067587027284, 3.6416101289262217, 3.2618897084285106, 3.8648484289247573, 3.3598046113903073, 3.0768247365341685, 3.392004973034612, 3.3975008507573548, 3.8529988720971384, 3.600595862165921, 3.6388070427688115, 3.697898303300283, 3.860709914495409, 3.7047682945153064, 3.626454070307096, 3.2555639572992496, 3.642727391435549, 3.6460467920522346, 3.5645874157193154, 3.3803115280545546, 3.7344460786003757, 3.626767370952827, 3.473502733268193, 3.1064107219736035, 3.3896922882789275, 3.413665597441597, 3.0822301979066715, 3.1293502257931403, 3.689790038050961, 3.589693267189154, 2.9991562824070224, 3.392899648371168, 3.441525637473219, 3.022756571252666, 3.023061919232929, 2.4905127163987038, 3.104907903668192, 2.4180290632384334, 3.064832775871048, 3.1586439993507263, 2.727167436403228, 2.411247674126042, 2.934833171402161, 2.9441022330519533, 2.3659514482664084, 2.234993350504147, 2.26330330865345, 2.190978802195492, 2.4272982988650007, 2.1199439985534503, 2.760388102200936, 1.9285910048940524, 1.9306082715211683, 2.1386437380615586, 1.8562607653262895, 2.052545817613663, 2.1038804786562157, 1.9376458349434493, 1.759034518051298, 2.643042081305347, 2.6706459353414407, 2.5190997308667233, 2.5219280506925865, 2.0562977063579653, 1.7903726582607826, 2.270195910601415, 2.408980923537357, 2.003469235905659, 1.902683684400606, 2.433752959062594, 2.0753126934727373, 1.7866302950295894, 1.9410189461562262, 1.7968131605324373, 1.8485042857911949, 2.1631592998495512, 2.3681019181053395, 2.122845878319116, 2.8512524564657644, 2.3146355761931083, 2.4837453990610645, 2.0757876758990355, 2.3145622948409024, 3.029705886616741, 3.073912236071308, 3.0782209245930394, 2.794360615366579, 2.50680719037229, 2.6486679512768125, 2.675106122125742, 2.491490279244142, 3.5019702036315246, 2.909516037189468, 2.796194542554515, 3.307960181365224, 2.9743773566504235, 3.1156818294097453, 3.4911969458713417, 3.7481138348713667, 3.792765284334634]}],                        {\"template\": {\"data\": {\"bar\": [{\"error_x\": {\"color\": \"#2a3f5f\"}, \"error_y\": {\"color\": \"#2a3f5f\"}, \"marker\": {\"line\": {\"color\": \"#E5ECF6\", \"width\": 0.5}}, \"type\": \"bar\"}], \"barpolar\": [{\"marker\": {\"line\": {\"color\": \"#E5ECF6\", \"width\": 0.5}}, \"type\": \"barpolar\"}], \"carpet\": [{\"aaxis\": {\"endlinecolor\": \"#2a3f5f\", \"gridcolor\": \"white\", \"linecolor\": \"white\", \"minorgridcolor\": \"white\", \"startlinecolor\": \"#2a3f5f\"}, \"baxis\": {\"endlinecolor\": \"#2a3f5f\", \"gridcolor\": \"white\", \"linecolor\": \"white\", \"minorgridcolor\": \"white\", \"startlinecolor\": \"#2a3f5f\"}, \"type\": \"carpet\"}], \"choropleth\": [{\"colorbar\": {\"outlinewidth\": 0, \"ticks\": \"\"}, \"type\": \"choropleth\"}], \"contour\": [{\"colorbar\": {\"outlinewidth\": 0, \"ticks\": \"\"}, \"colorscale\": [[0.0, \"#0d0887\"], [0.1111111111111111, \"#46039f\"], [0.2222222222222222, \"#7201a8\"], [0.3333333333333333, \"#9c179e\"], [0.4444444444444444, \"#bd3786\"], [0.5555555555555556, \"#d8576b\"], [0.6666666666666666, \"#ed7953\"], [0.7777777777777778, \"#fb9f3a\"], [0.8888888888888888, \"#fdca26\"], [1.0, \"#f0f921\"]], \"type\": \"contour\"}], \"contourcarpet\": [{\"colorbar\": {\"outlinewidth\": 0, \"ticks\": \"\"}, \"type\": \"contourcarpet\"}], \"heatmap\": [{\"colorbar\": {\"outlinewidth\": 0, \"ticks\": \"\"}, \"colorscale\": [[0.0, \"#0d0887\"], [0.1111111111111111, \"#46039f\"], [0.2222222222222222, \"#7201a8\"], [0.3333333333333333, \"#9c179e\"], [0.4444444444444444, \"#bd3786\"], [0.5555555555555556, \"#d8576b\"], [0.6666666666666666, \"#ed7953\"], [0.7777777777777778, \"#fb9f3a\"], [0.8888888888888888, \"#fdca26\"], [1.0, \"#f0f921\"]], \"type\": \"heatmap\"}], \"heatmapgl\": [{\"colorbar\": {\"outlinewidth\": 0, \"ticks\": \"\"}, \"colorscale\": [[0.0, \"#0d0887\"], [0.1111111111111111, \"#46039f\"], [0.2222222222222222, \"#7201a8\"], [0.3333333333333333, \"#9c179e\"], [0.4444444444444444, \"#bd3786\"], [0.5555555555555556, \"#d8576b\"], [0.6666666666666666, \"#ed7953\"], [0.7777777777777778, \"#fb9f3a\"], [0.8888888888888888, \"#fdca26\"], [1.0, \"#f0f921\"]], \"type\": \"heatmapgl\"}], \"histogram\": [{\"marker\": {\"colorbar\": {\"outlinewidth\": 0, \"ticks\": \"\"}}, \"type\": \"histogram\"}], \"histogram2d\": [{\"colorbar\": {\"outlinewidth\": 0, \"ticks\": \"\"}, \"colorscale\": [[0.0, \"#0d0887\"], [0.1111111111111111, \"#46039f\"], [0.2222222222222222, \"#7201a8\"], [0.3333333333333333, \"#9c179e\"], [0.4444444444444444, \"#bd3786\"], [0.5555555555555556, \"#d8576b\"], [0.6666666666666666, \"#ed7953\"], [0.7777777777777778, \"#fb9f3a\"], [0.8888888888888888, \"#fdca26\"], [1.0, \"#f0f921\"]], \"type\": \"histogram2d\"}], \"histogram2dcontour\": [{\"colorbar\": {\"outlinewidth\": 0, \"ticks\": \"\"}, \"colorscale\": [[0.0, \"#0d0887\"], [0.1111111111111111, \"#46039f\"], [0.2222222222222222, \"#7201a8\"], [0.3333333333333333, \"#9c179e\"], [0.4444444444444444, \"#bd3786\"], [0.5555555555555556, \"#d8576b\"], [0.6666666666666666, \"#ed7953\"], [0.7777777777777778, \"#fb9f3a\"], [0.8888888888888888, \"#fdca26\"], [1.0, \"#f0f921\"]], \"type\": \"histogram2dcontour\"}], \"mesh3d\": [{\"colorbar\": {\"outlinewidth\": 0, \"ticks\": \"\"}, \"type\": \"mesh3d\"}], \"parcoords\": [{\"line\": {\"colorbar\": {\"outlinewidth\": 0, \"ticks\": \"\"}}, \"type\": \"parcoords\"}], \"pie\": [{\"automargin\": true, \"type\": \"pie\"}], \"scatter\": [{\"marker\": {\"colorbar\": {\"outlinewidth\": 0, \"ticks\": \"\"}}, \"type\": \"scatter\"}], \"scatter3d\": [{\"line\": {\"colorbar\": {\"outlinewidth\": 0, \"ticks\": \"\"}}, \"marker\": {\"colorbar\": {\"outlinewidth\": 0, \"ticks\": \"\"}}, \"type\": \"scatter3d\"}], \"scattercarpet\": [{\"marker\": {\"colorbar\": {\"outlinewidth\": 0, \"ticks\": \"\"}}, \"type\": \"scattercarpet\"}], \"scattergeo\": [{\"marker\": {\"colorbar\": {\"outlinewidth\": 0, \"ticks\": \"\"}}, \"type\": \"scattergeo\"}], \"scattergl\": [{\"marker\": {\"colorbar\": {\"outlinewidth\": 0, \"ticks\": \"\"}}, \"type\": \"scattergl\"}], \"scattermapbox\": [{\"marker\": {\"colorbar\": {\"outlinewidth\": 0, \"ticks\": \"\"}}, \"type\": \"scattermapbox\"}], \"scatterpolar\": [{\"marker\": {\"colorbar\": {\"outlinewidth\": 0, \"ticks\": \"\"}}, \"type\": \"scatterpolar\"}], \"scatterpolargl\": [{\"marker\": {\"colorbar\": {\"outlinewidth\": 0, \"ticks\": \"\"}}, \"type\": \"scatterpolargl\"}], \"scatterternary\": [{\"marker\": {\"colorbar\": {\"outlinewidth\": 0, \"ticks\": \"\"}}, \"type\": \"scatterternary\"}], \"surface\": [{\"colorbar\": {\"outlinewidth\": 0, \"ticks\": \"\"}, \"colorscale\": [[0.0, \"#0d0887\"], [0.1111111111111111, \"#46039f\"], [0.2222222222222222, \"#7201a8\"], [0.3333333333333333, \"#9c179e\"], [0.4444444444444444, \"#bd3786\"], [0.5555555555555556, \"#d8576b\"], [0.6666666666666666, \"#ed7953\"], [0.7777777777777778, \"#fb9f3a\"], [0.8888888888888888, \"#fdca26\"], [1.0, \"#f0f921\"]], \"type\": \"surface\"}], \"table\": [{\"cells\": {\"fill\": {\"color\": \"#EBF0F8\"}, \"line\": {\"color\": \"white\"}}, \"header\": {\"fill\": {\"color\": \"#C8D4E3\"}, \"line\": {\"color\": \"white\"}}, \"type\": \"table\"}]}, \"layout\": {\"annotationdefaults\": {\"arrowcolor\": \"#2a3f5f\", \"arrowhead\": 0, \"arrowwidth\": 1}, \"coloraxis\": {\"colorbar\": {\"outlinewidth\": 0, \"ticks\": \"\"}}, \"colorscale\": {\"diverging\": [[0, \"#8e0152\"], [0.1, \"#c51b7d\"], [0.2, \"#de77ae\"], [0.3, \"#f1b6da\"], [0.4, \"#fde0ef\"], [0.5, \"#f7f7f7\"], [0.6, \"#e6f5d0\"], [0.7, \"#b8e186\"], [0.8, \"#7fbc41\"], [0.9, \"#4d9221\"], [1, \"#276419\"]], \"sequential\": [[0.0, \"#0d0887\"], [0.1111111111111111, \"#46039f\"], [0.2222222222222222, \"#7201a8\"], [0.3333333333333333, \"#9c179e\"], [0.4444444444444444, \"#bd3786\"], [0.5555555555555556, \"#d8576b\"], [0.6666666666666666, \"#ed7953\"], [0.7777777777777778, \"#fb9f3a\"], [0.8888888888888888, \"#fdca26\"], [1.0, \"#f0f921\"]], \"sequentialminus\": [[0.0, \"#0d0887\"], [0.1111111111111111, \"#46039f\"], [0.2222222222222222, \"#7201a8\"], [0.3333333333333333, \"#9c179e\"], [0.4444444444444444, \"#bd3786\"], [0.5555555555555556, \"#d8576b\"], [0.6666666666666666, \"#ed7953\"], [0.7777777777777778, \"#fb9f3a\"], [0.8888888888888888, \"#fdca26\"], [1.0, \"#f0f921\"]]}, \"colorway\": [\"#636efa\", \"#EF553B\", \"#00cc96\", \"#ab63fa\", \"#FFA15A\", \"#19d3f3\", \"#FF6692\", \"#B6E880\", \"#FF97FF\", \"#FECB52\"], \"font\": {\"color\": \"#2a3f5f\"}, \"geo\": {\"bgcolor\": \"white\", \"lakecolor\": \"white\", \"landcolor\": \"#E5ECF6\", \"showlakes\": true, \"showland\": true, \"subunitcolor\": \"white\"}, \"hoverlabel\": {\"align\": \"left\"}, \"hovermode\": \"closest\", \"mapbox\": {\"style\": \"light\"}, \"paper_bgcolor\": \"white\", \"plot_bgcolor\": \"#E5ECF6\", \"polar\": {\"angularaxis\": {\"gridcolor\": \"white\", \"linecolor\": \"white\", \"ticks\": \"\"}, \"bgcolor\": \"#E5ECF6\", \"radialaxis\": {\"gridcolor\": \"white\", \"linecolor\": \"white\", \"ticks\": \"\"}}, \"scene\": {\"xaxis\": {\"backgroundcolor\": \"#E5ECF6\", \"gridcolor\": \"white\", \"gridwidth\": 2, \"linecolor\": \"white\", \"showbackground\": true, \"ticks\": \"\", \"zerolinecolor\": \"white\"}, \"yaxis\": {\"backgroundcolor\": \"#E5ECF6\", \"gridcolor\": \"white\", \"gridwidth\": 2, \"linecolor\": \"white\", \"showbackground\": true, \"ticks\": \"\", \"zerolinecolor\": \"white\"}, \"zaxis\": {\"backgroundcolor\": \"#E5ECF6\", \"gridcolor\": \"white\", \"gridwidth\": 2, \"linecolor\": \"white\", \"showbackground\": true, \"ticks\": \"\", \"zerolinecolor\": \"white\"}}, \"shapedefaults\": {\"line\": {\"color\": \"#2a3f5f\"}}, \"ternary\": {\"aaxis\": {\"gridcolor\": \"white\", \"linecolor\": \"white\", \"ticks\": \"\"}, \"baxis\": {\"gridcolor\": \"white\", \"linecolor\": \"white\", \"ticks\": \"\"}, \"bgcolor\": \"#E5ECF6\", \"caxis\": {\"gridcolor\": \"white\", \"linecolor\": \"white\", \"ticks\": \"\"}}, \"title\": {\"x\": 0.05}, \"xaxis\": {\"automargin\": true, \"gridcolor\": \"white\", \"linecolor\": \"white\", \"ticks\": \"\", \"title\": {\"standoff\": 15}, \"zerolinecolor\": \"white\", \"zerolinewidth\": 2}, \"yaxis\": {\"automargin\": true, \"gridcolor\": \"white\", \"linecolor\": \"white\", \"ticks\": \"\", \"title\": {\"standoff\": 15}, \"zerolinecolor\": \"white\", \"zerolinewidth\": 2}}}, \"title\": {\"text\": \"Noisy sine wave with linear trend\"}},                        {\"responsive\": true}                    ).then(function(){\n                            \nvar gd = document.getElementById('3dcf4134-22da-4f57-b59f-1cf9ba79b0ce');\nvar x = new MutationObserver(function (mutations, observer) {{\n        var display = window.getComputedStyle(gd).display;\n        if (!display || display === 'none') {{\n            console.log([gd, 'removed!']);\n            Plotly.purge(gd);\n            observer.disconnect();\n        }}\n}});\n\n// Listen for the removal of the full notebook cells\nvar notebookContainer = gd.closest('#notebook-container');\nif (notebookContainer) {{\n    x.observe(notebookContainer, {childList: true});\n}}\n\n// Listen for the clearing of the current output cell\nvar outputEl = gd.closest('.output');\nif (outputEl) {{\n    x.observe(outputEl, {childList: true});\n}}\n\n                        })                };                });            </script>        </div>"
         },
         "metadata": {},
         "output_type": "display_data"
        }
       ]
      }
     },
     "308f800c336240bbaf78443650137886": {
      "model_module": "@jupyter-widgets/base",
      "model_module_version": "1.2.0",
      "model_name": "LayoutModel",
      "state": {
       "_model_module": "@jupyter-widgets/base",
       "_model_module_version": "1.2.0",
       "_model_name": "LayoutModel",
       "_view_count": null,
       "_view_module": "@jupyter-widgets/base",
       "_view_module_version": "1.2.0",
       "_view_name": "LayoutView",
       "align_content": null,
       "align_items": null,
       "align_self": null,
       "border": null,
       "bottom": null,
       "display": null,
       "flex": null,
       "flex_flow": null,
       "grid_area": null,
       "grid_auto_columns": null,
       "grid_auto_flow": null,
       "grid_auto_rows": null,
       "grid_column": null,
       "grid_gap": null,
       "grid_row": null,
       "grid_template_areas": null,
       "grid_template_columns": null,
       "grid_template_rows": null,
       "height": null,
       "justify_content": null,
       "justify_items": null,
       "left": null,
       "margin": null,
       "max_height": null,
       "max_width": null,
       "min_height": null,
       "min_width": null,
       "object_fit": null,
       "object_position": null,
       "order": null,
       "overflow": null,
       "overflow_x": null,
       "overflow_y": null,
       "padding": null,
       "right": null,
       "top": null,
       "visibility": null,
       "width": null
      }
     },
     "4da523ab08684b71bde512bf49ae95c3": {
      "model_module": "@jupyter-widgets/controls",
      "model_module_version": "1.5.0",
      "model_name": "FloatSliderModel",
      "state": {
       "_dom_classes": [],
       "_model_module": "@jupyter-widgets/controls",
       "_model_module_version": "1.5.0",
       "_model_name": "FloatSliderModel",
       "_view_count": null,
       "_view_module": "@jupyter-widgets/controls",
       "_view_module_version": "1.5.0",
       "_view_name": "FloatSliderView",
       "continuous_update": true,
       "description": "Num. cycles",
       "description_tooltip": null,
       "disabled": false,
       "layout": "IPY_MODEL_74debaf11aca4d3d95fa77461ea90d87",
       "max": 10.0,
       "min": 1.0,
       "orientation": "horizontal",
       "readout": true,
       "readout_format": ".2f",
       "step": 0.1,
       "style": "IPY_MODEL_7ddc949003354b329f9dbfb7daa4602d",
       "value": 2.0
      }
     },
     "5268ffc0e3a540409f2af6143eb9a368": {
      "model_module": "@jupyter-widgets/controls",
      "model_module_version": "1.5.0",
      "model_name": "DescriptionStyleModel",
      "state": {
       "_model_module": "@jupyter-widgets/controls",
       "_model_module_version": "1.5.0",
       "_model_name": "DescriptionStyleModel",
       "_view_count": null,
       "_view_module": "@jupyter-widgets/base",
       "_view_module_version": "1.2.0",
       "_view_name": "StyleView",
       "description_width": ""
      }
     },
     "5847ac64d4714313a899cd23eda9e464": {
      "model_module": "@jupyter-widgets/controls",
      "model_module_version": "1.5.0",
      "model_name": "DescriptionStyleModel",
      "state": {
       "_model_module": "@jupyter-widgets/controls",
       "_model_module_version": "1.5.0",
       "_model_name": "DescriptionStyleModel",
       "_view_count": null,
       "_view_module": "@jupyter-widgets/base",
       "_view_module_version": "1.2.0",
       "_view_name": "StyleView",
       "description_width": ""
      }
     },
     "74debaf11aca4d3d95fa77461ea90d87": {
      "model_module": "@jupyter-widgets/base",
      "model_module_version": "1.2.0",
      "model_name": "LayoutModel",
      "state": {
       "_model_module": "@jupyter-widgets/base",
       "_model_module_version": "1.2.0",
       "_model_name": "LayoutModel",
       "_view_count": null,
       "_view_module": "@jupyter-widgets/base",
       "_view_module_version": "1.2.0",
       "_view_name": "LayoutView",
       "align_content": null,
       "align_items": null,
       "align_self": null,
       "border": null,
       "bottom": null,
       "display": null,
       "flex": null,
       "flex_flow": null,
       "grid_area": null,
       "grid_auto_columns": null,
       "grid_auto_flow": null,
       "grid_auto_rows": null,
       "grid_column": null,
       "grid_gap": null,
       "grid_row": null,
       "grid_template_areas": null,
       "grid_template_columns": null,
       "grid_template_rows": null,
       "height": null,
       "justify_content": null,
       "justify_items": null,
       "left": null,
       "margin": null,
       "max_height": null,
       "max_width": null,
       "min_height": null,
       "min_width": null,
       "object_fit": null,
       "object_position": null,
       "order": null,
       "overflow": null,
       "overflow_x": null,
       "overflow_y": null,
       "padding": null,
       "right": null,
       "top": null,
       "visibility": null,
       "width": null
      }
     },
     "754b00e040a54f18a9962251c62703ef": {
      "model_module": "@jupyter-widgets/controls",
      "model_module_version": "1.5.0",
      "model_name": "DescriptionStyleModel",
      "state": {
       "_model_module": "@jupyter-widgets/controls",
       "_model_module_version": "1.5.0",
       "_model_name": "DescriptionStyleModel",
       "_view_count": null,
       "_view_module": "@jupyter-widgets/base",
       "_view_module_version": "1.2.0",
       "_view_name": "StyleView",
       "description_width": ""
      }
     },
     "79f3bdb3aa3546f598506a7b47ccc086": {
      "model_module": "@jupyter-widgets/controls",
      "model_module_version": "1.5.0",
      "model_name": "VBoxModel",
      "state": {
       "_dom_classes": [
        "widget-interact"
       ],
       "_model_module": "@jupyter-widgets/controls",
       "_model_module_version": "1.5.0",
       "_model_name": "VBoxModel",
       "_view_count": null,
       "_view_module": "@jupyter-widgets/controls",
       "_view_module_version": "1.5.0",
       "_view_name": "VBoxView",
       "box_style": "",
       "children": [
        "IPY_MODEL_4da523ab08684b71bde512bf49ae95c3",
        "IPY_MODEL_09a6ebfa3dc247dda94eeb7f6dd7adbb",
        "IPY_MODEL_c141930ed8984afb8058c959ba041138",
        "IPY_MODEL_996aba7aeb7347738b04b5354240ea36",
        "IPY_MODEL_1746f69f90c4439885433b0a296cb30e"
       ],
       "layout": "IPY_MODEL_308f800c336240bbaf78443650137886"
      }
     },
     "7ddc949003354b329f9dbfb7daa4602d": {
      "model_module": "@jupyter-widgets/controls",
      "model_module_version": "1.5.0",
      "model_name": "SliderStyleModel",
      "state": {
       "_model_module": "@jupyter-widgets/controls",
       "_model_module_version": "1.5.0",
       "_model_name": "SliderStyleModel",
       "_view_count": null,
       "_view_module": "@jupyter-widgets/base",
       "_view_module_version": "1.2.0",
       "_view_name": "StyleView",
       "description_width": "",
       "handle_color": null
      }
     },
     "923c3f13413a441492a07a51284db2d8": {
      "model_module": "@jupyter-widgets/base",
      "model_module_version": "1.2.0",
      "model_name": "LayoutModel",
      "state": {
       "_model_module": "@jupyter-widgets/base",
       "_model_module_version": "1.2.0",
       "_model_name": "LayoutModel",
       "_view_count": null,
       "_view_module": "@jupyter-widgets/base",
       "_view_module_version": "1.2.0",
       "_view_name": "LayoutView",
       "align_content": null,
       "align_items": null,
       "align_self": null,
       "border": null,
       "bottom": null,
       "display": null,
       "flex": null,
       "flex_flow": null,
       "grid_area": null,
       "grid_auto_columns": null,
       "grid_auto_flow": null,
       "grid_auto_rows": null,
       "grid_column": null,
       "grid_gap": null,
       "grid_row": null,
       "grid_template_areas": null,
       "grid_template_columns": null,
       "grid_template_rows": null,
       "height": null,
       "justify_content": null,
       "justify_items": null,
       "left": null,
       "margin": null,
       "max_height": null,
       "max_width": null,
       "min_height": null,
       "min_width": null,
       "object_fit": null,
       "object_position": null,
       "order": null,
       "overflow": null,
       "overflow_x": null,
       "overflow_y": null,
       "padding": null,
       "right": null,
       "top": null,
       "visibility": null,
       "width": null
      }
     },
     "996aba7aeb7347738b04b5354240ea36": {
      "model_module": "@jupyter-widgets/controls",
      "model_module_version": "1.5.0",
      "model_name": "CheckboxModel",
      "state": {
       "_dom_classes": [],
       "_model_module": "@jupyter-widgets/controls",
       "_model_module_version": "1.5.0",
       "_model_name": "CheckboxModel",
       "_view_count": null,
       "_view_module": "@jupyter-widgets/controls",
       "_view_module_version": "1.5.0",
       "_view_name": "CheckboxView",
       "description": "Trend line",
       "description_tooltip": null,
       "disabled": false,
       "indent": true,
       "layout": "IPY_MODEL_c92c3eba51fb467792ddb9a1bbc880f4",
       "style": "IPY_MODEL_754b00e040a54f18a9962251c62703ef",
       "value": true
      }
     },
     "9d825606c81c48a0b543b1813cd4996b": {
      "model_module": "@jupyter-widgets/base",
      "model_module_version": "1.2.0",
      "model_name": "LayoutModel",
      "state": {
       "_model_module": "@jupyter-widgets/base",
       "_model_module_version": "1.2.0",
       "_model_name": "LayoutModel",
       "_view_count": null,
       "_view_module": "@jupyter-widgets/base",
       "_view_module_version": "1.2.0",
       "_view_name": "LayoutView",
       "align_content": null,
       "align_items": null,
       "align_self": null,
       "border": null,
       "bottom": null,
       "display": null,
       "flex": null,
       "flex_flow": null,
       "grid_area": null,
       "grid_auto_columns": null,
       "grid_auto_flow": null,
       "grid_auto_rows": null,
       "grid_column": null,
       "grid_gap": null,
       "grid_row": null,
       "grid_template_areas": null,
       "grid_template_columns": null,
       "grid_template_rows": null,
       "height": null,
       "justify_content": null,
       "justify_items": null,
       "left": null,
       "margin": null,
       "max_height": null,
       "max_width": null,
       "min_height": null,
       "min_width": null,
       "object_fit": null,
       "object_position": null,
       "order": null,
       "overflow": null,
       "overflow_x": null,
       "overflow_y": null,
       "padding": null,
       "right": null,
       "top": null,
       "visibility": null,
       "width": null
      }
     },
     "c141930ed8984afb8058c959ba041138": {
      "model_module": "@jupyter-widgets/controls",
      "model_module_version": "1.5.0",
      "model_name": "CheckboxModel",
      "state": {
       "_dom_classes": [],
       "_model_module": "@jupyter-widgets/controls",
       "_model_module_version": "1.5.0",
       "_model_name": "CheckboxModel",
       "_view_count": null,
       "_view_module": "@jupyter-widgets/controls",
       "_view_module_version": "1.5.0",
       "_view_name": "CheckboxView",
       "description": "Random noise",
       "description_tooltip": null,
       "disabled": false,
       "indent": true,
       "layout": "IPY_MODEL_e3b45b3fd2d14a589ab6440528687003",
       "style": "IPY_MODEL_5847ac64d4714313a899cd23eda9e464",
       "value": true
      }
     },
     "c92c3eba51fb467792ddb9a1bbc880f4": {
      "model_module": "@jupyter-widgets/base",
      "model_module_version": "1.2.0",
      "model_name": "LayoutModel",
      "state": {
       "_model_module": "@jupyter-widgets/base",
       "_model_module_version": "1.2.0",
       "_model_name": "LayoutModel",
       "_view_count": null,
       "_view_module": "@jupyter-widgets/base",
       "_view_module_version": "1.2.0",
       "_view_name": "LayoutView",
       "align_content": null,
       "align_items": null,
       "align_self": null,
       "border": null,
       "bottom": null,
       "display": null,
       "flex": null,
       "flex_flow": null,
       "grid_area": null,
       "grid_auto_columns": null,
       "grid_auto_flow": null,
       "grid_auto_rows": null,
       "grid_column": null,
       "grid_gap": null,
       "grid_row": null,
       "grid_template_areas": null,
       "grid_template_columns": null,
       "grid_template_rows": null,
       "height": null,
       "justify_content": null,
       "justify_items": null,
       "left": null,
       "margin": null,
       "max_height": null,
       "max_width": null,
       "min_height": null,
       "min_width": null,
       "object_fit": null,
       "object_position": null,
       "order": null,
       "overflow": null,
       "overflow_x": null,
       "overflow_y": null,
       "padding": null,
       "right": null,
       "top": null,
       "visibility": null,
       "width": null
      }
     },
     "e3b45b3fd2d14a589ab6440528687003": {
      "model_module": "@jupyter-widgets/base",
      "model_module_version": "1.2.0",
      "model_name": "LayoutModel",
      "state": {
       "_model_module": "@jupyter-widgets/base",
       "_model_module_version": "1.2.0",
       "_model_name": "LayoutModel",
       "_view_count": null,
       "_view_module": "@jupyter-widgets/base",
       "_view_module_version": "1.2.0",
       "_view_name": "LayoutView",
       "align_content": null,
       "align_items": null,
       "align_self": null,
       "border": null,
       "bottom": null,
       "display": null,
       "flex": null,
       "flex_flow": null,
       "grid_area": null,
       "grid_auto_columns": null,
       "grid_auto_flow": null,
       "grid_auto_rows": null,
       "grid_column": null,
       "grid_gap": null,
       "grid_row": null,
       "grid_template_areas": null,
       "grid_template_columns": null,
       "grid_template_rows": null,
       "height": null,
       "justify_content": null,
       "justify_items": null,
       "left": null,
       "margin": null,
       "max_height": null,
       "max_width": null,
       "min_height": null,
       "min_width": null,
       "object_fit": null,
       "object_position": null,
       "order": null,
       "overflow": null,
       "overflow_x": null,
       "overflow_y": null,
       "padding": null,
       "right": null,
       "top": null,
       "visibility": null,
       "width": null
      }
     }
    },
    "version_major": 2,
    "version_minor": 0
   }
  }
 },
 "nbformat": 4,
 "nbformat_minor": 4
}
